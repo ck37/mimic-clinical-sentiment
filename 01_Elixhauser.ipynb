{
 "cells": [
  {
   "cell_type": "code",
   "execution_count": null,
   "metadata": {},
   "outputs": [],
   "source": [
    "#Elixhauser: https://github.com/MIT-LCP/mimic-code/blob/master/concepts/other-languages/4-elixhauser.sql"
   ]
  },
  {
   "cell_type": "code",
   "execution_count": null,
   "metadata": {},
   "outputs": [],
   "source": [
    "import os, re\n",
    "import pandas as pd\n",
    "import numpy as np\n",
    "import time\n",
    "from datetime import datetime"
   ]
  },
  {
   "cell_type": "code",
   "execution_count": null,
   "metadata": {},
   "outputs": [],
   "source": [
    "icds=pd.read_csv('data-raw/mimic/DIAGNOSES_ICD.csv')\n",
    "drgs=pd.read_csv('data-raw/mimic/DRGCODES.csv')\n",
    "d_icd=pd.read_csv('data-raw/mimic/D_ICD_DIAGNOSES.csv')"
   ]
  },
  {
   "cell_type": "code",
   "execution_count": null,
   "metadata": {},
   "outputs": [],
   "source": [
    "icds.head(5)"
   ]
  },
  {
   "cell_type": "code",
   "execution_count": null,
   "metadata": {},
   "outputs": [],
   "source": [
    "def convert_icd9(x): \n",
    "    icd9='unknown'\n",
    "    if str(x)=='nan': icd9=='unknown'\n",
    "    elif x[0] in ['V', 'E']: icd9= x[0:-2]+'.'+x[-2::]\n",
    "    else: icd9=x[:-2]+'.'+x[-2::]\n",
    "    if icd9.isnumeric():\n",
    "        if int(icd9)<1000: return icd9\n",
    "        elif int(icd9)<1000: return icd9/10\n",
    "    else: return icd9"
   ]
  },
  {
   "cell_type": "code",
   "execution_count": null,
   "metadata": {},
   "outputs": [],
   "source": [
    "icds['icd9_converted']=icds.ICD9_CODE.map(lambda x: (convert_icd9(x)))"
   ]
  },
  {
   "cell_type": "code",
   "execution_count": null,
   "metadata": {},
   "outputs": [],
   "source": [
    "def icd9_elix(x): \n",
    "    if (x[0].isalpha()): \n",
    "        if (x == 'V45'): return 'cardiac_arrhythmias'\n",
    "        elif (x=='V42.2'): return 'valvular_disease'\n",
    "        elif (x=='V43.4'): return 'peripheral_vascular'\n",
    "        elif (x=='V42.7'): return 'liver_disease'\n",
    "        elif (x == 'V42')| (x == 'V45.1')| (x == 'V56')| (x == 'V56.8'): return 'renal_failure'\n",
    "        elif (x == 'V12.71'): return 'peptic_ulcer'\n",
    "        elif (x=='V10.71') | (x=='V10.72') | (x=='V10.79'): return 'lymphoma'\n",
    "        elif ('V10' in x): return 'solid_tumor'\n",
    "        elif (x=='V113'): return 'alcohol_abuse'\n",
    "        else: return 'unknown_other'\n",
    "    elif (x[0].isnumeric()): \n",
    "        if  (x == '398.91') | (x == '402.11') | (x == '402.91') | (x == '404.11') | (x == '404.13') | (x == '404.91') | (x == '404.93') | ((float(x) >= 428) & (float(x)<=428.9)): \n",
    "            return 'congestive_heart_failure'\n",
    "        elif (x == '426.1')| (x == '426.11')| (x == '426.13')| (((float(x) >= 426.2) & (float(x)<=426.53)))| (((float(x) >=426.6) & (float(x)<=426.89)))| (x == '427')| (x == '427.2')| (x == '427.31')| (x == '427.6')| (x == '427.9')| (x == '785')| (x == '53.3'): \n",
    "            return 'cardiac_arrhythmias'\n",
    "        elif ((float(x) >= 93.2) & (float(x)<= 93.24))| ((float(x)>= 394) &  (float(x)<=397.1))| ((float(x)>= 424) & (float(x)<=424.91))| ((float(x) >= 746.3) & (float(x)<=746.6))| (x == '43.3'): \n",
    "            return 'valvular_disease'\n",
    "        elif ((float(x)>=416) & (float(x)<416.9) | (x=='417.9')): \n",
    "            return 'pulmonary_circulation'\n",
    "        elif ((float(x) >= 440) & (float(x)<=440.9))| (x == '441.2')| (x == '441.4')| (x == '441.7')| (x == '441.9')| ((float(x) >= 443.1) & (float(x)<=443.9))| (x == '447.1')| (x == '557.1')| (x == '557.9'): \n",
    "            return 'peripheral_vascular'\n",
    "        elif (x == '401.1')| (x == '401.9')| (x == '402.1')| (x == '402.9')| (x == '404.1')| (x == '404.9')| (x ==  '405.11')| (x == '405.19')| (x ==  '405.91')| (x == '405.99'): \n",
    "            return 'hypertension'\n",
    "        elif ((float(x) >= 342) & (float(x)<=342.12)) | ((float(x)>=342.9) & (float(x)<=344.9)): \n",
    "            return 'paralysis'\n",
    "        elif (x == '331.9')| (x == '332')| (x == '333.4')| (x == '333.5')| ((float(x) >= 334) & (float(x)<= 335.9))| (x == '340')| ((float(x) >= 341.1) & (float(x)<= 341.9))| ((float(x) >= 345) & (float(x)<=345.11))| ((float(x) >= 345.4) & (float(x)<= 345.51))| ((float(x) >= 345.8) & (float(x)<=345.91))| (x == '348.1')| (x == '348.3')| (x == '780.3')| (x == '784.3'):\n",
    "            return 'other_neurological'\n",
    "        elif ((float(x) >= 490) & (float(x)<=492.8))| ((float(x) >= 493) & (float(x)<=493.91))| (x == '494')| ((float(x) >= 495) & (float(x)<=505))| (x == '506.4'): \n",
    "            return 'chronic_pulmonary'\n",
    "        elif ((float(x)>=250) & (float(x)<=250.33)): \n",
    "              return 'diabetes_uncomplicated'\n",
    "        elif ((float(x)>=250.4) & (float(x)<=250.73)) | ((float(x)>=250.9) & (float(x)<=250.93)): \n",
    "            return 'diabetes_complicated'\n",
    "        elif ((float(x)>=243) & (float(x)<=244.2)) | (x=='244.8') | (x=='244.9'): \n",
    "            return 'hypothyroidism'\n",
    "        elif   (x == '403.11 ')| (x == '403.91')| (x == '404.12')| (x == '404.92')| (x == '585')| (x == '586))'): \n",
    "            return 'renal_failure'\n",
    "        elif ((float(x)>=571.4) & (float(x)<=571.49)) | (x == '70.32')| (x == '70.33')| (x == '70.54')| (x == '456')| (x == '456.1')| (x == '456.2')| (x == '456.21')| (x == '571')| (x == '571.2')| (x == '571.3')| (x == '571.5')| (x == '571.6')| (x == '571.8')| (x == '571.9')| (x == '572.3')| (x == '572.8'): \n",
    "            return 'liver_disease'\n",
    "        elif (x == '531.7')| (x == '531.9')| (x == '532.7')| (x == '532.9')| (x == '533.7')| (x == '533.9')| (x == '534.7')| (x == '534.9'):\n",
    "            return 'peptic_ulcer'\n",
    "        elif ((float(x)>=42) & (float(x)<=44.9)): \n",
    "            return 'aids'\n",
    "        elif ((float(x)>=200) & (float(x)<=202.38)) | ((float(x)>=202.5) & (float(x)<=203.01)) | ((float(x)>=203.8) & (float(x)<=203.81)) | (x=='238.6') | (x=='273.3'): \n",
    "            return 'lymphoma'\n",
    "        elif ((float(x)>=196) & (float(x)<=199.1)): \n",
    "            return 'metastatic_cancer'\n",
    "        elif ((float(x)>=140) & (float(x)<=172.9)) | ((float(x)>=174) & (float(x)<=175.9)) | ((float(x)>=179) & (float(x)<=195.8)): \n",
    "            return 'solid_tumor'\n",
    "        elif ((float(x)>=710) & (float(x)<=710.9)) | ((float(x)>=714) & (float(x)<=714.9)) | ((float(x)>=720) & (float(x)<=720.9)) | (x=='701') | (x=='725'): \n",
    "            return 'rheumatoid_arthritis'\n",
    "        elif ((float(x)>=2860) & (float(x)<=2869)) | ((float(x)>=287.3) & (float(x)<=287.5)) | (x=='287.1'): \n",
    "            return 'coagulopathy'\n",
    "        elif (x=='278'): \n",
    "            return 'obesity'\n",
    "        elif ((float(x)>=260) & (float(x)<=263.9)): \n",
    "            return 'weight_loss'\n",
    "        elif ((float(x)>=276) & (float(x)<=276.9)): \n",
    "            return 'fluid_electrolyte'\n",
    "        elif (x=='2800'): \n",
    "            return 'blood_loss_anemia'\n",
    "        elif ((float(x)>=280.1) & (float(x)<=281.9)) | (x=='285.9'): \n",
    "            return 'deficiency_anemias'\n",
    "        elif ((float(x)>=303.9) & (float(x)<=303.93)) | ((float(x)>=305) & (float(x)<=305.03)) | (x=='291.1') | (x=='291.2') | (x=='291.5') | (x=='291.8') | (x=='291.9'): \n",
    "            return 'alcohol_abuse'\n",
    "        elif ((float(x)>=305.2) & (float(x)<=305.93)) | ((float(x)>=304) & (float(x)<=304.93)) |((float(x)>=292.82) & (float(x)<=292.89)) | (x=='292') | (x=='292.9') : \n",
    "            return 'drug_abuse'\n",
    "        elif ((float(x)>=295) & (float(x)<=298.9)) | ((float(x)>=299.1) & (float(x)<=299.11)): \n",
    "            return 'psychoses'\n",
    "        elif (x == '300.4')| (x == '301.12')| (x == '309')| (x == '309.1')| (x == '311'): \n",
    "            return 'depression'\n",
    "        else: return 'unknown_other'\n",
    "    else: return 'unknown_other'"
   ]
  },
  {
   "cell_type": "code",
   "execution_count": null,
   "metadata": {},
   "outputs": [],
   "source": [
    "icds['elixhauser_category']=icds.icd9_converted.map(lambda x: icd9_elix(str(x)))"
   ]
  },
  {
   "cell_type": "code",
   "execution_count": null,
   "metadata": {},
   "outputs": [],
   "source": [
    "icds.elixhauser_category.value_counts()"
   ]
  },
  {
   "cell_type": "code",
   "execution_count": null,
   "metadata": {},
   "outputs": [],
   "source": [
    "drg_final=drgs[drgs.DRG_TYPE=='HCFA']"
   ]
  },
  {
   "cell_type": "code",
   "execution_count": null,
   "metadata": {},
   "outputs": [],
   "source": [
    "def convert_drg(x): \n",
    "    if ((x >= 103) & (x <= 108))| ((x >= 110) & (x <= 112))| ((x >= 115) & (x <= 118))| ((x >= 120) & (x <= 127))| (x == 129)| ((x >= 132) & (x <= 133))| ((x >= 135) & (x <= 143)): \n",
    "        return 'cardiac'\n",
    "    elif ((x >= 302) & (x <= 305)) | ((x >= 315) & (x <= 333)): return 'renal'\n",
    "    elif ((x >= 199) & (x <= 202))| ((x >= 205) & (x <= 208)): return 'liver'\n",
    "    elif ((x >= 400) & (x <= 414))| (x == 473)| (x == 492)| (x == 10)| (x == 11)| (x == 64)| (x == 82)| (x == 172)| (x == 173)| (x == 199)| (x == 203)| (x == 239)| ((x >= 257) & (x <= 260))| (x == 274)| (x == 275)| (x == 303)| (x == 318)| (x == 319)| (x == 338)| (x == 344)| (x == 346)| (x == 347)| (x == 354)| (x == 355)| (x == 357)| (x == 363)| (x == 366)| (x == 367)| ((x >= 406) & (x <= 414)): \n",
    "                                      return 'cancer'\n",
    "    elif (x==88): return 'copd'\n",
    "    elif ((x>=130) & (x<=131)): return 'peripheral_vascular'\n",
    "    elif (x==134): return 'hypertension'\n",
    "    elif ((x>=14) & (x<=17)) | (x==5): return 'cerebrovascular'\n",
    "    elif ((x>=1) & (x<=35)): return 'nervous_system'\n",
    "    elif ((x>=96) & (x<=98)): return 'asthma'\n",
    "    elif ((x>=294) & (x<=295)): return 'diabetes'\n",
    "    elif x==250: return 'thyroid'\n",
    "    elif ((x>=300) & (x<=301)): return 'endocrine'\n",
    "    elif x==302: return 'kidney_transplant'\n",
    "    elif ((x>=316) & (x<=317)): return 'renal_failure_dialysis'\n",
    "    elif ((x>=174) & (x<=178)): return 'gi_hemorrhage_ulcer'\n",
    "    elif ((x>=488) & (x<=490)): return 'hiv'\n",
    "    elif ((x>=240) & (x<=241)): return 'connective_tissue'\n",
    "    elif x==397: return 'coagulation'\n",
    "    elif x==288: return 'obesity_procedure'\n",
    "    elif ((x>=396) & (x<=298)): return 'nutrition_metabolic'\n",
    "    elif ((x>=433) & (x<=437)): return 'alcohol_drug'\n",
    "    elif x==430: return 'psychoses'\n",
    "    elif x==426: return 'depression'\n",
    "    else: return 'unknown'"
   ]
  },
  {
   "cell_type": "code",
   "execution_count": null,
   "metadata": {},
   "outputs": [],
   "source": [
    "drg_final['drg_code_converted']=drg_final.DRG_CODE.map(lambda x: convert_drg(x))"
   ]
  },
  {
   "cell_type": "code",
   "execution_count": null,
   "metadata": {},
   "outputs": [],
   "source": [
    "drg_final.shape"
   ]
  },
  {
   "cell_type": "code",
   "execution_count": null,
   "metadata": {},
   "outputs": [],
   "source": [
    "icds.shape"
   ]
  },
  {
   "cell_type": "code",
   "execution_count": null,
   "metadata": {},
   "outputs": [],
   "source": [
    "elix_df=pd.merge(drg_final[['SUBJECT_ID', 'HADM_ID', 'drg_code_converted']], \n",
    "                 icds[['SUBJECT_ID', 'HADM_ID', 'icd9_converted', 'elixhauser_category']], \n",
    "                on=['SUBJECT_ID', 'HADM_ID'], how='right')"
   ]
  },
  {
   "cell_type": "code",
   "execution_count": null,
   "metadata": {},
   "outputs": [],
   "source": [
    "elix_df"
   ]
  },
  {
   "cell_type": "code",
   "execution_count": null,
   "metadata": {},
   "outputs": [],
   "source": [
    "def elix_pmh(x): \n",
    "    if ((x['drg_code_converted']=='cardiac') & (x['elixhauser_category']== 'congestive_heart_failure')): return False \n",
    "    elif ((x['drg_code_converted']=='cardiac') & (x['elixhauser_category']== 'cardiac_arrhythmias')): return False \n",
    "    elif ((x['drg_code_converted']=='cardiac') & (x['elixhauser_category']== 'valvular_disease')): return False \n",
    "    elif ((x['drg_code_converted']=='cardiac') & (x['drg_code_converted']=='copd') & (x['elixhauser_category']== 'pulmonary_circulation')): return False \n",
    "    elif ((x['drg_code_converted']=='peripheral_vascular') & (x['elixhauser_category']== 'peripheral_vascular')): return False \n",
    "    elif ((x['drg_code_converted']=='hypertension') & (x['drg_code_converted']=='cardiac') & (x['drg_code_converted']=='renal')& (x['elixhauser_category']== 'hypertension')): return False \n",
    "    elif ((x['drg_code_converted']=='cerebrovascular') & (x['elixhauser_category']== 'paralysis')): return False\n",
    "    elif ((x['drg_code_converted']=='nervous_system') & (x['elixhauser_category']== 'other_neurological')): return False\n",
    "    elif ((x['drg_code_converted']=='copd') & (x['drg_code_converted']=='asthma') & (x['elixhauser_category']== 'chronic_pulmonary')): return False\n",
    "    elif ((x['drg_code_converted']=='diabetes') & (x['elixhauser_category']== 'diabetes_uncomplicated')): return False\n",
    "    elif ((x['drg_code_converted']=='diabetes') & (x['elixhauser_category']== 'diabetes_complicated')): return False\n",
    "    elif ((x['drg_code_converted']=='thyroid') & (x['drg_code_converted']=='endocrine') & (x['elixhauser_category']== 'hypothyroidism')): return False\n",
    "    elif ((x['drg_code_converted']=='kidney_transplant') & (x['drg_code_converted']=='renal_failure_dialysis') & (x['elixhauser_category']== 'renal_failure')): return False\n",
    "    elif ((x['drg_code_converted']=='liver') & (x['elixhauser_category']== 'liver_disease')): return False\n",
    "    elif ((x['drg_code_converted']=='hemorrhage_ulcer') & (x['elixhauser_category']== 'peptic_ulcer')): return False\n",
    "    elif ((x['drg_code_converted']=='leukemia_lymphoma') & (x['elixhauser_category']== 'lymphoma')): return False\n",
    "    elif ((x['drg_code_converted']=='cancer') & (x['elixhauser_category']== 'metastatic_cancer')): return False\n",
    "    elif ((x['drg_code_converted']=='connective_tissue') & (x['elixhauser_category']== 'rheumatoid_arthritis')): return False\n",
    "    elif ((x['drg_code_converted']=='coagulation') & (x['elixhauser_category']== 'coagulopathy')): return False\n",
    "    elif ((x['drg_code_converted']=='obesity_procedure') & (x['drg_code_converted']=='nutrition_metabolic') & (x['elixhauser_category']== 'obesity')): return False\n",
    "    elif ((x['drg_code_converted']=='nutrition_metabolic') & (x['elixhauser_category']== 'weight_loss')): return False\n",
    "    elif ((x['drg_code_converted']=='nutrition_metabolic') & (x['elixhauser_category']== 'fluid_electrolyte')): return False\n",
    "    elif ((x['drg_code_converted']=='anemia') & (x['elixhauser_category']== 'blood_loss_anemia')): return False\n",
    "    elif ((x['drg_code_converted']=='anemia') & (x['elixhauser_category']== 'deficiency_anemia')): return False\n",
    "    elif ((x['drg_code_converted']=='alcohol_drug') & (x['elixhauser_category']== 'alcohol_abuse')): return False\n",
    "    elif ((x['drg_code_converted']=='alcohol_drug') & (x['elixhauser_category']== 'drug_abuse')): return False\n",
    "    elif ((x['drg_code_converted']=='psychoses') & (x['elixhauser_category']== 'psychoses')): return False\n",
    "    elif ((x['drg_code_converted']=='depression') & (x['elixhauser_category']== 'depression')): return False\n",
    "    else: return True"
   ]
  },
  {
   "cell_type": "code",
   "execution_count": null,
   "metadata": {},
   "outputs": [],
   "source": [
    "elix_df['true_comorbidity']=elix_df.apply(elix_pmh, axis=1)"
   ]
  },
  {
   "cell_type": "code",
   "execution_count": null,
   "metadata": {},
   "outputs": [],
   "source": [
    "elix_df=elix_df[elix_df.true_comorbidity==True]\n",
    "elix_final=pd.DataFrame(elix_df.groupby(['SUBJECT_ID', 'HADM_ID'])['elixhauser_category'].apply(','.join))"
   ]
  },
  {
   "cell_type": "code",
   "execution_count": null,
   "metadata": {},
   "outputs": [],
   "source": [
    "elix_final.reset_index()\n",
    "elix_final['prior_comorbidities']=elix_final.elixhauser_category.map(lambda x: ', '.join(set(x.split(','))))\n",
    "elix_final.pop('elixhauser_category')\n",
    "print('')"
   ]
  },
  {
   "cell_type": "code",
   "execution_count": null,
   "metadata": {},
   "outputs": [],
   "source": [
    "elix_final=elix_final.reset_index()"
   ]
  },
  {
   "cell_type": "code",
   "execution_count": null,
   "metadata": {},
   "outputs": [],
   "source": [
    "len(elix_final.HADM_ID.unique())"
   ]
  },
  {
   "cell_type": "code",
   "execution_count": null,
   "metadata": {},
   "outputs": [],
   "source": [
    "elix_final.to_csv('data/MIMIC_001_Elixhauser.csv', index=False)"
   ]
  },
  {
   "cell_type": "code",
   "execution_count": null,
   "metadata": {},
   "outputs": [],
   "source": []
  }
 ],
 "metadata": {
  "kernelspec": {
   "display_name": "Python 3 (ipykernel)",
   "language": "python",
   "name": "python3"
  },
  "language_info": {
   "codemirror_mode": {
    "name": "ipython",
    "version": 3
   },
   "file_extension": ".py",
   "mimetype": "text/x-python",
   "name": "python",
   "nbconvert_exporter": "python",
   "pygments_lexer": "ipython3",
   "version": "3.8.12"
  }
 },
 "nbformat": 4,
 "nbformat_minor": 4
}
