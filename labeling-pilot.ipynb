{
 "cells": [
  {
   "cell_type": "markdown",
   "id": "1110fea8-b7de-4bbb-a64a-8c8708281704",
   "metadata": {},
   "source": [
    "# Labeling pilot\n",
    "\n",
    "Analyze agreement on the 100 labels across 2-3 annotators."
   ]
  },
  {
   "cell_type": "markdown",
   "id": "ada0e6af-5d4b-4e44-ad23-e8b5ec78e1ba",
   "metadata": {},
   "source": [
    "## Setup"
   ]
  },
  {
   "cell_type": "code",
   "execution_count": 1,
   "id": "98c07320-e598-4293-aa0d-d63472d79af5",
   "metadata": {},
   "outputs": [
    {
     "data": {
      "text/plain": [
       "PosixPath('/home/ck37/projects/clinical-sentiment-keywords')"
      ]
     },
     "execution_count": 1,
     "metadata": {},
     "output_type": "execute_result"
    }
   ],
   "source": [
    "import json\n",
    "from pyprojroot import here\n",
    "from pathlib import Path\n",
    "here()"
   ]
  },
  {
   "cell_type": "markdown",
   "id": "99d1fda3-0324-49f8-a3f4-018795c59447",
   "metadata": {},
   "source": [
    "## Import data"
   ]
  },
  {
   "cell_type": "code",
   "execution_count": 2,
   "id": "bef8eda4-8d04-435d-aa20-9bb40f83981c",
   "metadata": {},
   "outputs": [
    {
     "data": {
      "text/plain": [
       "dict_keys(['labels100-8082-mac', 'labels100-8080-mary', 'labels100-8081-dan'])"
      ]
     },
     "execution_count": 2,
     "metadata": {},
     "output_type": "execute_result"
    }
   ],
   "source": [
    "import pandas as pd\n",
    "\n",
    "data_raw = here() / \"data-raw\"\n",
    "\n",
    "# Exported from Label Studio\n",
    "tsv_files = json_files = list(data_raw.glob(\"labels100-*.tsv\"))\n",
    "\n",
    "tsvs = {tsv_file.stem: pd.read_csv(tsv_file, sep = '\\t') for tsv_file in tsv_files}\n",
    "tsvs.keys()\n"
   ]
  },
  {
   "cell_type": "code",
   "execution_count": 3,
   "id": "20ea57e2-8e24-48c5-bf21-e7f31a64c8db",
   "metadata": {},
   "outputs": [],
   "source": [
    "tsvs['labels100-8080-mary']['rater'] = 'mary'\n",
    "tsvs['labels100-8081-dan']['rater'] = 'daniel'\n",
    "tsvs['labels100-8082-mac']['rater'] = 'macgregor'"
   ]
  },
  {
   "cell_type": "code",
   "execution_count": 4,
   "id": "c401e44d-15ba-49da-954e-439478e87542",
   "metadata": {},
   "outputs": [
    {
     "name": "stdout",
     "output_type": "stream",
     "text": [
      "(101, 20)\n",
      "(100, 20)\n"
     ]
    }
   ],
   "source": [
    "print(tsvs['labels100-8081-dan'].shape)\n",
    "#svs['labels100-8081-dan']['overall-sentiment'].value_counts()\n",
    "# There are two annotations for this excerpt for some reason.\n",
    "tsvs['labels100-8081-dan'] = tsvs['labels100-8081-dan'][tsvs['labels100-8081-dan']['annotation_id'] != 20]\n",
    "#tsvs['labels100-8081-dan'].drop_duplicates(subset = ['row_id'])\n",
    "print(tsvs['labels100-8081-dan'].shape)"
   ]
  },
  {
   "cell_type": "code",
   "execution_count": 5,
   "id": "25e03a04-7e54-456c-8b82-c9a95aa03187",
   "metadata": {},
   "outputs": [
    {
     "name": "stdout",
     "output_type": "stream",
     "text": [
      "Original annotator code counts:\n",
      "2    200\n",
      "3    100\n",
      "4      2\n",
      "Name: annotator, dtype: int64\n",
      "\n",
      "Updated annotator code counts:\n",
      "2    200\n",
      "3    100\n",
      "Name: annotator, dtype: int64\n",
      "\n",
      "Rater counts:\n",
      "macgregor    100\n",
      "mary         100\n",
      "daniel       100\n",
      "Name: rater, dtype: int64\n"
     ]
    }
   ],
   "source": [
    "# Combine tsvs into a single df.\n",
    "df = pd.concat(tsvs)\n",
    "\n",
    "#print(df.describe())\n",
    "\n",
    "print(f'Original annotator code counts:\\n{df.annotator.value_counts()}\\n')\n",
    "\n",
    "# Drop the 2 annotations from #4 for now.\n",
    "df = df.loc[df.annotator.values != 4]\n",
    "\n",
    "print(f'Updated annotator code counts:\\n{df.annotator.value_counts()}\\n')\n",
    "print(f'Rater counts:\\n{df.rater.value_counts()}')"
   ]
  },
  {
   "cell_type": "code",
   "execution_count": 6,
   "id": "3c347468-477c-4c59-b12f-caa51f735705",
   "metadata": {},
   "outputs": [
    {
     "data": {
      "text/html": [
       "<div>\n",
       "<style scoped>\n",
       "    .dataframe tbody tr th:only-of-type {\n",
       "        vertical-align: middle;\n",
       "    }\n",
       "\n",
       "    .dataframe tbody tr th {\n",
       "        vertical-align: top;\n",
       "    }\n",
       "\n",
       "    .dataframe thead th {\n",
       "        text-align: right;\n",
       "    }\n",
       "</style>\n",
       "<table border=\"1\" class=\"dataframe\">\n",
       "  <thead>\n",
       "    <tr style=\"text-align: right;\">\n",
       "      <th></th>\n",
       "      <th></th>\n",
       "      <th>row_id</th>\n",
       "      <th>sent_num</th>\n",
       "      <th>text</th>\n",
       "      <th>chars</th>\n",
       "      <th>words</th>\n",
       "      <th>keywords</th>\n",
       "      <th>keyword_count</th>\n",
       "      <th>id</th>\n",
       "      <th>aspect</th>\n",
       "      <th>uncertainty</th>\n",
       "      <th>overall-sentiment</th>\n",
       "      <th>aspect2-sentiment</th>\n",
       "      <th>aspect1-sentiment</th>\n",
       "      <th>annotator</th>\n",
       "      <th>annotation_id</th>\n",
       "      <th>created_at</th>\n",
       "      <th>updated_at</th>\n",
       "      <th>lead_time</th>\n",
       "      <th>aspect3-sentiment</th>\n",
       "      <th>rater</th>\n",
       "    </tr>\n",
       "  </thead>\n",
       "  <tbody>\n",
       "    <tr>\n",
       "      <th>labels100-8082-mac</th>\n",
       "      <th>90</th>\n",
       "      <td>624</td>\n",
       "      <td>51</td>\n",
       "      <td>The patient's heart rate was improved and the ...</td>\n",
       "      <td>85</td>\n",
       "      <td>17</td>\n",
       "      <td>['improved']</td>\n",
       "      <td>1</td>\n",
       "      <td>10</td>\n",
       "      <td>[{\"start\": 4, \"end\": 24, \"text\": \"patient's he...</td>\n",
       "      <td>No</td>\n",
       "      <td>Positive</td>\n",
       "      <td>Positive</td>\n",
       "      <td>Positive</td>\n",
       "      <td>2</td>\n",
       "      <td>9</td>\n",
       "      <td>2022-01-26T21:24:36.827544Z</td>\n",
       "      <td>2022-01-26T21:24:36.827553Z</td>\n",
       "      <td>NaN</td>\n",
       "      <td>NaN</td>\n",
       "      <td>macgregor</td>\n",
       "    </tr>\n",
       "    <tr>\n",
       "      <th>labels100-8081-dan</th>\n",
       "      <th>91</th>\n",
       "      <td>624</td>\n",
       "      <td>51</td>\n",
       "      <td>The patient's heart rate was improved and the ...</td>\n",
       "      <td>85</td>\n",
       "      <td>17</td>\n",
       "      <td>['improved']</td>\n",
       "      <td>1</td>\n",
       "      <td>10</td>\n",
       "      <td>[{\"start\": 14, \"end\": 24, \"text\": \"heart rate\"...</td>\n",
       "      <td>No</td>\n",
       "      <td>Positive</td>\n",
       "      <td>Positive</td>\n",
       "      <td>Positive</td>\n",
       "      <td>2</td>\n",
       "      <td>35</td>\n",
       "      <td>2022-02-16T04:30:18.479798Z</td>\n",
       "      <td>2022-02-16T04:30:18.479834Z</td>\n",
       "      <td>117.852</td>\n",
       "      <td>Positive</td>\n",
       "      <td>daniel</td>\n",
       "    </tr>\n",
       "    <tr>\n",
       "      <th>labels100-8080-mary</th>\n",
       "      <th>12</th>\n",
       "      <td>624</td>\n",
       "      <td>51</td>\n",
       "      <td>The patient's heart rate was improved and the ...</td>\n",
       "      <td>85</td>\n",
       "      <td>17</td>\n",
       "      <td>['improved']</td>\n",
       "      <td>1</td>\n",
       "      <td>93</td>\n",
       "      <td>[{\"start\": 14, \"end\": 24, \"text\": \"heart rate\"...</td>\n",
       "      <td>No</td>\n",
       "      <td>Very Positive</td>\n",
       "      <td>Positive</td>\n",
       "      <td>Positive</td>\n",
       "      <td>3</td>\n",
       "      <td>159</td>\n",
       "      <td>2022-01-31T07:11:31.964366Z</td>\n",
       "      <td>2022-01-31T07:11:31.964409Z</td>\n",
       "      <td>24.881</td>\n",
       "      <td>NaN</td>\n",
       "      <td>mary</td>\n",
       "    </tr>\n",
       "    <tr>\n",
       "      <th>labels100-8082-mac</th>\n",
       "      <th>59</th>\n",
       "      <td>6028</td>\n",
       "      <td>6</td>\n",
       "      <td>In the early afternoon she was so lethargic sh...</td>\n",
       "      <td>74</td>\n",
       "      <td>16</td>\n",
       "      <td>['unable']</td>\n",
       "      <td>1</td>\n",
       "      <td>41</td>\n",
       "      <td>[{\"start\": 31, \"end\": 73, \"text\": \"so lethargi...</td>\n",
       "      <td>Yes</td>\n",
       "      <td>Negative</td>\n",
       "      <td>NaN</td>\n",
       "      <td>Negative</td>\n",
       "      <td>2</td>\n",
       "      <td>42</td>\n",
       "      <td>2022-01-31T00:47:14.031546Z</td>\n",
       "      <td>2022-01-31T00:47:14.031585Z</td>\n",
       "      <td>25.847</td>\n",
       "      <td>NaN</td>\n",
       "      <td>macgregor</td>\n",
       "    </tr>\n",
       "    <tr>\n",
       "      <th>labels100-8080-mary</th>\n",
       "      <th>41</th>\n",
       "      <td>6028</td>\n",
       "      <td>6</td>\n",
       "      <td>In the early afternoon she was so lethargic sh...</td>\n",
       "      <td>74</td>\n",
       "      <td>16</td>\n",
       "      <td>['unable']</td>\n",
       "      <td>1</td>\n",
       "      <td>62</td>\n",
       "      <td>[{\"start\": 34, \"end\": 43, \"text\": \"lethargic\",...</td>\n",
       "      <td>Can't tell</td>\n",
       "      <td>Very Negative</td>\n",
       "      <td>Negative</td>\n",
       "      <td>Negative</td>\n",
       "      <td>3</td>\n",
       "      <td>128</td>\n",
       "      <td>2022-01-31T06:48:25.631980Z</td>\n",
       "      <td>2022-01-31T06:48:25.632020Z</td>\n",
       "      <td>32.690</td>\n",
       "      <td>NaN</td>\n",
       "      <td>mary</td>\n",
       "    </tr>\n",
       "    <tr>\n",
       "      <th>labels100-8081-dan</th>\n",
       "      <th>61</th>\n",
       "      <td>6028</td>\n",
       "      <td>6</td>\n",
       "      <td>In the early afternoon she was so lethargic sh...</td>\n",
       "      <td>74</td>\n",
       "      <td>16</td>\n",
       "      <td>['unable']</td>\n",
       "      <td>1</td>\n",
       "      <td>41</td>\n",
       "      <td>[{\"start\": 34, \"end\": 43, \"text\": \"lethargic\",...</td>\n",
       "      <td>No</td>\n",
       "      <td>Very Negative</td>\n",
       "      <td>NaN</td>\n",
       "      <td>Negative</td>\n",
       "      <td>2</td>\n",
       "      <td>13</td>\n",
       "      <td>2022-01-26T23:50:48.658822Z</td>\n",
       "      <td>2022-01-26T23:50:48.658831Z</td>\n",
       "      <td>NaN</td>\n",
       "      <td>NaN</td>\n",
       "      <td>daniel</td>\n",
       "    </tr>\n",
       "    <tr>\n",
       "      <th>labels100-8082-mac</th>\n",
       "      <th>27</th>\n",
       "      <td>6870</td>\n",
       "      <td>10</td>\n",
       "      <td>On the floor, she reports some improvement and...</td>\n",
       "      <td>79</td>\n",
       "      <td>16</td>\n",
       "      <td>['improvement']</td>\n",
       "      <td>1</td>\n",
       "      <td>74</td>\n",
       "      <td>[{\"start\": 26, \"end\": 78, \"text\": \"some improv...</td>\n",
       "      <td>No</td>\n",
       "      <td>Positive</td>\n",
       "      <td>NaN</td>\n",
       "      <td>Positive</td>\n",
       "      <td>2</td>\n",
       "      <td>75</td>\n",
       "      <td>2022-02-04T19:55:10.248898Z</td>\n",
       "      <td>2022-02-04T19:55:10.248970Z</td>\n",
       "      <td>129.560</td>\n",
       "      <td>NaN</td>\n",
       "      <td>macgregor</td>\n",
       "    </tr>\n",
       "    <tr>\n",
       "      <th>labels100-8081-dan</th>\n",
       "      <th>27</th>\n",
       "      <td>6870</td>\n",
       "      <td>10</td>\n",
       "      <td>On the floor, she reports some improvement and...</td>\n",
       "      <td>79</td>\n",
       "      <td>16</td>\n",
       "      <td>['improvement']</td>\n",
       "      <td>1</td>\n",
       "      <td>74</td>\n",
       "      <td>[{\"start\": 31, \"end\": 42, \"text\": \"improvement...</td>\n",
       "      <td>No</td>\n",
       "      <td>Positive</td>\n",
       "      <td>NaN</td>\n",
       "      <td>Positive</td>\n",
       "      <td>2</td>\n",
       "      <td>76</td>\n",
       "      <td>2022-02-20T07:22:03.306734Z</td>\n",
       "      <td>2022-02-20T07:22:03.306778Z</td>\n",
       "      <td>277.387</td>\n",
       "      <td>NaN</td>\n",
       "      <td>daniel</td>\n",
       "    </tr>\n",
       "    <tr>\n",
       "      <th>labels100-8080-mary</th>\n",
       "      <th>75</th>\n",
       "      <td>6870</td>\n",
       "      <td>10</td>\n",
       "      <td>On the floor, she reports some improvement and...</td>\n",
       "      <td>79</td>\n",
       "      <td>16</td>\n",
       "      <td>['improvement']</td>\n",
       "      <td>1</td>\n",
       "      <td>28</td>\n",
       "      <td>[{\"start\": 31, \"end\": 42, \"text\": \"improvement...</td>\n",
       "      <td>No</td>\n",
       "      <td>Very Positive</td>\n",
       "      <td>Positive</td>\n",
       "      <td>Positive</td>\n",
       "      <td>3</td>\n",
       "      <td>43</td>\n",
       "      <td>2022-01-13T13:44:02.832653Z</td>\n",
       "      <td>2022-01-13T13:44:02.832706Z</td>\n",
       "      <td>34212.299</td>\n",
       "      <td>NaN</td>\n",
       "      <td>mary</td>\n",
       "    </tr>\n",
       "    <tr>\n",
       "      <th>labels100-8082-mac</th>\n",
       "      <th>63</th>\n",
       "      <td>7995</td>\n",
       "      <td>169</td>\n",
       "      <td>This was re-positioned by interventional pulmo...</td>\n",
       "      <td>86</td>\n",
       "      <td>14</td>\n",
       "      <td>['resolution']</td>\n",
       "      <td>1</td>\n",
       "      <td>37</td>\n",
       "      <td>[{\"start\": 9, \"end\": 22, \"text\": \"re-positione...</td>\n",
       "      <td>No</td>\n",
       "      <td>Positive</td>\n",
       "      <td>Positive</td>\n",
       "      <td>Neutral</td>\n",
       "      <td>2</td>\n",
       "      <td>26</td>\n",
       "      <td>2022-01-26T21:24:36.828729Z</td>\n",
       "      <td>2022-01-26T21:24:36.828738Z</td>\n",
       "      <td>NaN</td>\n",
       "      <td>NaN</td>\n",
       "      <td>macgregor</td>\n",
       "    </tr>\n",
       "  </tbody>\n",
       "</table>\n",
       "</div>"
      ],
      "text/plain": [
       "                        row_id  sent_num  \\\n",
       "labels100-8082-mac  90     624        51   \n",
       "labels100-8081-dan  91     624        51   \n",
       "labels100-8080-mary 12     624        51   \n",
       "labels100-8082-mac  59    6028         6   \n",
       "labels100-8080-mary 41    6028         6   \n",
       "labels100-8081-dan  61    6028         6   \n",
       "labels100-8082-mac  27    6870        10   \n",
       "labels100-8081-dan  27    6870        10   \n",
       "labels100-8080-mary 75    6870        10   \n",
       "labels100-8082-mac  63    7995       169   \n",
       "\n",
       "                                                                     text  \\\n",
       "labels100-8082-mac  90  The patient's heart rate was improved and the ...   \n",
       "labels100-8081-dan  91  The patient's heart rate was improved and the ...   \n",
       "labels100-8080-mary 12  The patient's heart rate was improved and the ...   \n",
       "labels100-8082-mac  59  In the early afternoon she was so lethargic sh...   \n",
       "labels100-8080-mary 41  In the early afternoon she was so lethargic sh...   \n",
       "labels100-8081-dan  61  In the early afternoon she was so lethargic sh...   \n",
       "labels100-8082-mac  27  On the floor, she reports some improvement and...   \n",
       "labels100-8081-dan  27  On the floor, she reports some improvement and...   \n",
       "labels100-8080-mary 75  On the floor, she reports some improvement and...   \n",
       "labels100-8082-mac  63  This was re-positioned by interventional pulmo...   \n",
       "\n",
       "                        chars  words         keywords  keyword_count  id  \\\n",
       "labels100-8082-mac  90     85     17     ['improved']              1  10   \n",
       "labels100-8081-dan  91     85     17     ['improved']              1  10   \n",
       "labels100-8080-mary 12     85     17     ['improved']              1  93   \n",
       "labels100-8082-mac  59     74     16       ['unable']              1  41   \n",
       "labels100-8080-mary 41     74     16       ['unable']              1  62   \n",
       "labels100-8081-dan  61     74     16       ['unable']              1  41   \n",
       "labels100-8082-mac  27     79     16  ['improvement']              1  74   \n",
       "labels100-8081-dan  27     79     16  ['improvement']              1  74   \n",
       "labels100-8080-mary 75     79     16  ['improvement']              1  28   \n",
       "labels100-8082-mac  63     86     14   ['resolution']              1  37   \n",
       "\n",
       "                                                                   aspect  \\\n",
       "labels100-8082-mac  90  [{\"start\": 4, \"end\": 24, \"text\": \"patient's he...   \n",
       "labels100-8081-dan  91  [{\"start\": 14, \"end\": 24, \"text\": \"heart rate\"...   \n",
       "labels100-8080-mary 12  [{\"start\": 14, \"end\": 24, \"text\": \"heart rate\"...   \n",
       "labels100-8082-mac  59  [{\"start\": 31, \"end\": 73, \"text\": \"so lethargi...   \n",
       "labels100-8080-mary 41  [{\"start\": 34, \"end\": 43, \"text\": \"lethargic\",...   \n",
       "labels100-8081-dan  61  [{\"start\": 34, \"end\": 43, \"text\": \"lethargic\",...   \n",
       "labels100-8082-mac  27  [{\"start\": 26, \"end\": 78, \"text\": \"some improv...   \n",
       "labels100-8081-dan  27  [{\"start\": 31, \"end\": 42, \"text\": \"improvement...   \n",
       "labels100-8080-mary 75  [{\"start\": 31, \"end\": 42, \"text\": \"improvement...   \n",
       "labels100-8082-mac  63  [{\"start\": 9, \"end\": 22, \"text\": \"re-positione...   \n",
       "\n",
       "                       uncertainty overall-sentiment aspect2-sentiment  \\\n",
       "labels100-8082-mac  90          No          Positive          Positive   \n",
       "labels100-8081-dan  91          No          Positive          Positive   \n",
       "labels100-8080-mary 12          No     Very Positive          Positive   \n",
       "labels100-8082-mac  59         Yes          Negative               NaN   \n",
       "labels100-8080-mary 41  Can't tell     Very Negative          Negative   \n",
       "labels100-8081-dan  61          No     Very Negative               NaN   \n",
       "labels100-8082-mac  27          No          Positive               NaN   \n",
       "labels100-8081-dan  27          No          Positive               NaN   \n",
       "labels100-8080-mary 75          No     Very Positive          Positive   \n",
       "labels100-8082-mac  63          No          Positive          Positive   \n",
       "\n",
       "                       aspect1-sentiment  annotator  annotation_id  \\\n",
       "labels100-8082-mac  90          Positive          2              9   \n",
       "labels100-8081-dan  91          Positive          2             35   \n",
       "labels100-8080-mary 12          Positive          3            159   \n",
       "labels100-8082-mac  59          Negative          2             42   \n",
       "labels100-8080-mary 41          Negative          3            128   \n",
       "labels100-8081-dan  61          Negative          2             13   \n",
       "labels100-8082-mac  27          Positive          2             75   \n",
       "labels100-8081-dan  27          Positive          2             76   \n",
       "labels100-8080-mary 75          Positive          3             43   \n",
       "labels100-8082-mac  63           Neutral          2             26   \n",
       "\n",
       "                                         created_at  \\\n",
       "labels100-8082-mac  90  2022-01-26T21:24:36.827544Z   \n",
       "labels100-8081-dan  91  2022-02-16T04:30:18.479798Z   \n",
       "labels100-8080-mary 12  2022-01-31T07:11:31.964366Z   \n",
       "labels100-8082-mac  59  2022-01-31T00:47:14.031546Z   \n",
       "labels100-8080-mary 41  2022-01-31T06:48:25.631980Z   \n",
       "labels100-8081-dan  61  2022-01-26T23:50:48.658822Z   \n",
       "labels100-8082-mac  27  2022-02-04T19:55:10.248898Z   \n",
       "labels100-8081-dan  27  2022-02-20T07:22:03.306734Z   \n",
       "labels100-8080-mary 75  2022-01-13T13:44:02.832653Z   \n",
       "labels100-8082-mac  63  2022-01-26T21:24:36.828729Z   \n",
       "\n",
       "                                         updated_at  lead_time  \\\n",
       "labels100-8082-mac  90  2022-01-26T21:24:36.827553Z        NaN   \n",
       "labels100-8081-dan  91  2022-02-16T04:30:18.479834Z    117.852   \n",
       "labels100-8080-mary 12  2022-01-31T07:11:31.964409Z     24.881   \n",
       "labels100-8082-mac  59  2022-01-31T00:47:14.031585Z     25.847   \n",
       "labels100-8080-mary 41  2022-01-31T06:48:25.632020Z     32.690   \n",
       "labels100-8081-dan  61  2022-01-26T23:50:48.658831Z        NaN   \n",
       "labels100-8082-mac  27  2022-02-04T19:55:10.248970Z    129.560   \n",
       "labels100-8081-dan  27  2022-02-20T07:22:03.306778Z    277.387   \n",
       "labels100-8080-mary 75  2022-01-13T13:44:02.832706Z  34212.299   \n",
       "labels100-8082-mac  63  2022-01-26T21:24:36.828738Z        NaN   \n",
       "\n",
       "                       aspect3-sentiment      rater  \n",
       "labels100-8082-mac  90               NaN  macgregor  \n",
       "labels100-8081-dan  91          Positive     daniel  \n",
       "labels100-8080-mary 12               NaN       mary  \n",
       "labels100-8082-mac  59               NaN  macgregor  \n",
       "labels100-8080-mary 41               NaN       mary  \n",
       "labels100-8081-dan  61               NaN     daniel  \n",
       "labels100-8082-mac  27               NaN  macgregor  \n",
       "labels100-8081-dan  27               NaN     daniel  \n",
       "labels100-8080-mary 75               NaN       mary  \n",
       "labels100-8082-mac  63               NaN  macgregor  "
      ]
     },
     "execution_count": 6,
     "metadata": {},
     "output_type": "execute_result"
    }
   ],
   "source": [
    "df.sort_values(by = ['row_id'], inplace = True)\n",
    "df.head(10)"
   ]
  },
  {
   "cell_type": "markdown",
   "id": "abd2a13b-a564-44a9-a5a6-47c5307a02be",
   "metadata": {},
   "source": [
    "## Overall sentiment"
   ]
  },
  {
   "cell_type": "code",
   "execution_count": 55,
   "id": "38909d45-3125-454f-a5a1-15665defed97",
   "metadata": {},
   "outputs": [],
   "source": [
    "# We only need these two columns for sentiment analysis.\n",
    "df2 = df[['row_id', 'text', 'rater', 'overall-sentiment']]\n",
    "df3 = df2.pivot(index = ['row_id', 'text'], columns = ['rater'], values = 'overall-sentiment')\n",
    "\n",
    "df3.reset_index(inplace = True)\n",
    "#df3.drop(columns = ['annotator'], inplace = True)\n",
    "\n",
    "df3.head()"
   ]
  },
  {
   "cell_type": "code",
   "execution_count": 58,
   "id": "690cb06b-6588-4aee-b491-49d385394ffa",
   "metadata": {},
   "outputs": [
    {
     "data": {
      "text/plain": [
       "Index(['row_id', 'text', 'daniel', 'macgregor', 'mary'], dtype='object', name='')"
      ]
     },
     "execution_count": 58,
     "metadata": {},
     "output_type": "execute_result"
    }
   ],
   "source": [
    "df3.columns.name = ''\n",
    "df3.columns"
   ]
  },
  {
   "cell_type": "code",
   "execution_count": 59,
   "id": "9a93f203-ec77-4430-bce4-6f19d78eeb85",
   "metadata": {},
   "outputs": [
    {
     "name": "stdout",
     "output_type": "stream",
     "text": [
      "<class 'pandas.core.frame.DataFrame'>\n",
      "RangeIndex: 100 entries, 0 to 99\n",
      "Data columns (total 5 columns):\n",
      " #   Column     Non-Null Count  Dtype \n",
      "---  ------     --------------  ----- \n",
      " 0   row_id     100 non-null    int64 \n",
      " 1   text       100 non-null    object\n",
      " 2   daniel     100 non-null    object\n",
      " 3   macgregor  100 non-null    object\n",
      " 4   mary       100 non-null    object\n",
      "dtypes: int64(1), object(4)\n",
      "memory usage: 4.0+ KB\n"
     ]
    }
   ],
   "source": [
    "df3.info()"
   ]
  },
  {
   "cell_type": "code",
   "execution_count": 62,
   "id": "7dd3f624-aee2-43a5-b6c6-7320227932a5",
   "metadata": {},
   "outputs": [],
   "source": [
    "df3.to_excel(\"data/labeling-pilot.xlsx\", index = False)"
   ]
  },
  {
   "cell_type": "code",
   "execution_count": 63,
   "id": "1eae01e4-4499-4739-9633-23b3e128f10b",
   "metadata": {},
   "outputs": [],
   "source": [
    "raters = ['daniel', 'macgregor', 'mary']\n",
    "kdat = df3[raters].to_numpy().T"
   ]
  },
  {
   "cell_type": "code",
   "execution_count": 64,
   "id": "c7038ae9-1aec-4ddc-8d81-2bef9bef76c9",
   "metadata": {},
   "outputs": [
    {
     "name": "stdout",
     "output_type": "stream",
     "text": [
      "0.721\n"
     ]
    }
   ],
   "source": [
    "from krippendorff import alpha\n",
    "# 72.1% reliability.\n",
    "result = alpha(reliability_data = kdat.tolist(),\n",
    "            level_of_measurement = \"ordinal\",\n",
    "            value_domain = ['Very Negative', 'Negative', 'Neutral', 'Positive', 'Very Positive'])\n",
    "print(round(result, 3))"
   ]
  },
  {
   "cell_type": "markdown",
   "id": "c8d3470f-4366-490a-be53-33a944df6c55",
   "metadata": {},
   "source": [
    "### Collapsed coding (3)"
   ]
  },
  {
   "cell_type": "code",
   "execution_count": 65,
   "id": "a02e69de-aeff-4856-b7c5-77ff8a9c4c5c",
   "metadata": {},
   "outputs": [
    {
     "name": "stdout",
     "output_type": "stream",
     "text": [
      "Positive    40\n",
      "Negative    40\n",
      "Neutral     20\n",
      "Name: daniel, dtype: int64\n",
      "Neutral     37\n",
      "Negative    32\n",
      "Positive    31\n",
      "Name: macgregor, dtype: int64\n",
      "Positive    51\n",
      "Negative    33\n",
      "Neutral     16\n",
      "Name: mary, dtype: int64\n"
     ]
    }
   ],
   "source": [
    "df4 = df3.copy()\n",
    "# Collapse to 3-value rating scale.\n",
    "for rater in raters:\n",
    "    df4[rater] = df4[rater].str.replace('Very Negative', 'Negative').replace('Very Positive', 'Positive')\n",
    "    print(df4[rater].value_counts())"
   ]
  },
  {
   "cell_type": "code",
   "execution_count": 66,
   "id": "eab6c5bc-de2e-40c7-90c7-1f9ebd21b021",
   "metadata": {},
   "outputs": [
    {
     "name": "stdout",
     "output_type": "stream",
     "text": [
      "0.754\n"
     ]
    }
   ],
   "source": [
    "# 75.4% reliability.\n",
    "result = alpha(reliability_data = df4[raters].to_numpy().T.tolist(),\n",
    "            level_of_measurement = \"ordinal\",\n",
    "            value_domain = ['Negative', 'Neutral', 'Positive'])\n",
    "print(round(result, 3))"
   ]
  },
  {
   "cell_type": "code",
   "execution_count": 67,
   "id": "c5455950-c1bc-4a5a-a34d-b90266ef51c8",
   "metadata": {},
   "outputs": [],
   "source": [
    "#df4[['rater2', 'rater3']].to_feather(\"data/labeling-pilot.feather\")\n",
    "df4[raters].to_excel(\"data/labeling-pilot-collapsed.xlsx\", index = False)"
   ]
  },
  {
   "cell_type": "markdown",
   "id": "078371b5-ce40-4f08-ad6f-b1be1743ecd6",
   "metadata": {},
   "source": [
    "## Uncertainty"
   ]
  },
  {
   "cell_type": "code",
   "execution_count": 21,
   "id": "138ba936-80d6-42ed-be9c-ca78791deda7",
   "metadata": {},
   "outputs": [
    {
     "name": "stdout",
     "output_type": "stream",
     "text": [
      "Rating distribution:\n",
      "No            211\n",
      "Yes            69\n",
      "Can't tell     20\n",
      "Name: uncertainty, dtype: int64\n"
     ]
    },
    {
     "data": {
      "text/html": [
       "<div>\n",
       "<style scoped>\n",
       "    .dataframe tbody tr th:only-of-type {\n",
       "        vertical-align: middle;\n",
       "    }\n",
       "\n",
       "    .dataframe tbody tr th {\n",
       "        vertical-align: top;\n",
       "    }\n",
       "\n",
       "    .dataframe thead th {\n",
       "        text-align: right;\n",
       "    }\n",
       "</style>\n",
       "<table border=\"1\" class=\"dataframe\">\n",
       "  <thead>\n",
       "    <tr style=\"text-align: right;\">\n",
       "      <th>rater</th>\n",
       "      <th>row_id</th>\n",
       "      <th>text</th>\n",
       "      <th>daniel</th>\n",
       "      <th>macgregor</th>\n",
       "      <th>mary</th>\n",
       "    </tr>\n",
       "  </thead>\n",
       "  <tbody>\n",
       "    <tr>\n",
       "      <th>0</th>\n",
       "      <td>624</td>\n",
       "      <td>The patient's heart rate was improved and the ...</td>\n",
       "      <td>No</td>\n",
       "      <td>No</td>\n",
       "      <td>No</td>\n",
       "    </tr>\n",
       "    <tr>\n",
       "      <th>1</th>\n",
       "      <td>6028</td>\n",
       "      <td>In the early afternoon she was so lethargic sh...</td>\n",
       "      <td>No</td>\n",
       "      <td>Yes</td>\n",
       "      <td>Can't tell</td>\n",
       "    </tr>\n",
       "    <tr>\n",
       "      <th>2</th>\n",
       "      <td>6870</td>\n",
       "      <td>On the floor, she reports some improvement and...</td>\n",
       "      <td>No</td>\n",
       "      <td>No</td>\n",
       "      <td>No</td>\n",
       "    </tr>\n",
       "    <tr>\n",
       "      <th>3</th>\n",
       "      <td>7995</td>\n",
       "      <td>This was re-positioned by interventional pulmo...</td>\n",
       "      <td>No</td>\n",
       "      <td>No</td>\n",
       "      <td>No</td>\n",
       "    </tr>\n",
       "    <tr>\n",
       "      <th>4</th>\n",
       "      <td>8773</td>\n",
       "      <td>PHYSICAL EXAMINATION: The patient was afebrile...</td>\n",
       "      <td>No</td>\n",
       "      <td>No</td>\n",
       "      <td>Can't tell</td>\n",
       "    </tr>\n",
       "  </tbody>\n",
       "</table>\n",
       "</div>"
      ],
      "text/plain": [
       "rater  row_id                                               text daniel  \\\n",
       "0         624  The patient's heart rate was improved and the ...     No   \n",
       "1        6028  In the early afternoon she was so lethargic sh...     No   \n",
       "2        6870  On the floor, she reports some improvement and...     No   \n",
       "3        7995  This was re-positioned by interventional pulmo...     No   \n",
       "4        8773  PHYSICAL EXAMINATION: The patient was afebrile...     No   \n",
       "\n",
       "rater macgregor        mary  \n",
       "0            No          No  \n",
       "1           Yes  Can't tell  \n",
       "2            No          No  \n",
       "3            No          No  \n",
       "4            No  Can't tell  "
      ]
     },
     "execution_count": 21,
     "metadata": {},
     "output_type": "execute_result"
    }
   ],
   "source": [
    "# We only need these two columns for sentiment analysis.\n",
    "df2 = df[['row_id', 'text', 'rater', 'uncertainty']]\n",
    "print(f\"Rating distribution:\\n{df2.uncertainty.value_counts()}\")\n",
    "df3 = df2.pivot(index = ['row_id', 'text'], columns = ['rater'], values = 'uncertainty')\n",
    "\n",
    "df3.reset_index(inplace = True)\n",
    "#df3.drop(columns = ['annotator'], inplace = True)\n",
    "\n",
    "df3.head()"
   ]
  },
  {
   "cell_type": "code",
   "execution_count": 22,
   "id": "3b2e8462-1e9c-4421-b511-bfdc83227d8b",
   "metadata": {},
   "outputs": [
    {
     "data": {
      "text/plain": [
       "Index(['row_id', 'text', 'daniel', 'macgregor', 'mary'], dtype='object', name='')"
      ]
     },
     "execution_count": 22,
     "metadata": {},
     "output_type": "execute_result"
    }
   ],
   "source": [
    "df3.columns.name = ''\n",
    "df3.columns"
   ]
  },
  {
   "cell_type": "code",
   "execution_count": 23,
   "id": "62d2420b-d5da-4411-b646-814e00d434a0",
   "metadata": {},
   "outputs": [
    {
     "name": "stdout",
     "output_type": "stream",
     "text": [
      "<class 'pandas.core.frame.DataFrame'>\n",
      "RangeIndex: 100 entries, 0 to 99\n",
      "Data columns (total 5 columns):\n",
      " #   Column     Non-Null Count  Dtype \n",
      "---  ------     --------------  ----- \n",
      " 0   row_id     100 non-null    int64 \n",
      " 1   text       100 non-null    object\n",
      " 2   daniel     100 non-null    object\n",
      " 3   macgregor  100 non-null    object\n",
      " 4   mary       100 non-null    object\n",
      "dtypes: int64(1), object(4)\n",
      "memory usage: 4.0+ KB\n"
     ]
    }
   ],
   "source": [
    "df3.info()"
   ]
  },
  {
   "cell_type": "code",
   "execution_count": 24,
   "id": "0634df7e-053b-468a-b53b-cfa348b07fc8",
   "metadata": {},
   "outputs": [],
   "source": [
    "df3.to_excel(\"data/labeling-pilot-uncertainty.xlsx\", index = False)"
   ]
  },
  {
   "cell_type": "code",
   "execution_count": 25,
   "id": "50f05369-cfc7-46d8-ac49-84fa164c120a",
   "metadata": {},
   "outputs": [],
   "source": [
    "raters = ['daniel', 'macgregor', 'mary']\n",
    "kdat = df3[raters].to_numpy().T"
   ]
  },
  {
   "cell_type": "code",
   "execution_count": 27,
   "id": "ce06c31e-daeb-4a42-97a6-aa8ccf898b44",
   "metadata": {},
   "outputs": [
    {
     "name": "stdout",
     "output_type": "stream",
     "text": [
      "0.385\n"
     ]
    }
   ],
   "source": [
    "from krippendorff import alpha\n",
    "# 38.5%\n",
    "result = alpha(reliability_data = kdat.tolist(),\n",
    "            level_of_measurement = \"ordinal\",\n",
    "            value_domain = ['No', 'Can\\'t tell', 'Yes'])\n",
    "print(round(result, 3))"
   ]
  },
  {
   "cell_type": "markdown",
   "id": "1ba92694-3c89-452f-8cb3-f745474296f7",
   "metadata": {
    "tags": []
   },
   "source": [
    "### Collapsed coding (2)"
   ]
  },
  {
   "cell_type": "code",
   "execution_count": 28,
   "id": "49f85f9e-6669-4a6f-ab2b-4d7cf7eae13f",
   "metadata": {},
   "outputs": [
    {
     "name": "stdout",
     "output_type": "stream",
     "text": [
      "No     78\n",
      "Yes    22\n",
      "Name: daniel, dtype: int64\n",
      "No     68\n",
      "Yes    32\n",
      "Name: macgregor, dtype: int64\n",
      "No     85\n",
      "Yes    15\n",
      "Name: mary, dtype: int64\n"
     ]
    }
   ],
   "source": [
    "df4 = df3.copy()\n",
    "# Collapse to 3-value rating scale.\n",
    "for rater in raters:\n",
    "    df4[rater] = df4[rater].str.replace('Can\\'t tell', 'No')\n",
    "    print(df4[rater].value_counts())"
   ]
  },
  {
   "cell_type": "code",
   "execution_count": 30,
   "id": "7445bf97-37f3-42b6-8611-b2e6aabf90f9",
   "metadata": {},
   "outputs": [
    {
     "name": "stdout",
     "output_type": "stream",
     "text": [
      "0.4\n"
     ]
    }
   ],
   "source": [
    "# 40 reliability.\n",
    "result = alpha(reliability_data = df4[raters].to_numpy().T.tolist(),\n",
    "            level_of_measurement = \"ordinal\",\n",
    "            value_domain = ['No', 'Yes'])\n",
    "print(round(result, 3))"
   ]
  },
  {
   "cell_type": "code",
   "execution_count": null,
   "id": "78c020ae-59ca-496d-aad4-36cddeb178d1",
   "metadata": {},
   "outputs": [],
   "source": []
  }
 ],
 "metadata": {
  "kernelspec": {
   "display_name": "Python [conda env:clinical-sentiment]",
   "language": "python",
   "name": "conda-env-clinical-sentiment-py"
  },
  "language_info": {
   "codemirror_mode": {
    "name": "ipython",
    "version": 3
   },
   "file_extension": ".py",
   "mimetype": "text/x-python",
   "name": "python",
   "nbconvert_exporter": "python",
   "pygments_lexer": "ipython3",
   "version": "3.8.12"
  }
 },
 "nbformat": 4,
 "nbformat_minor": 5
}
