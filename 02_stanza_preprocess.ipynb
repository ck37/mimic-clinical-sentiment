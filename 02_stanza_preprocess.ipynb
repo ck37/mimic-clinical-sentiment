{
 "cells": [
  {
   "cell_type": "code",
   "execution_count": null,
   "metadata": {},
   "outputs": [],
   "source": [
    "import os, re\n",
    "import pandas as pd\n",
    "import numpy as np\n",
    "import time\n",
    "import stanza\n",
    "\n",
    "import medspacy, spacy\n",
    "from medspacy.ner import TargetRule \n",
    "from medspacy.visualization import visualize_ent\n",
    "from medspacy.sentence_splitting import PyRuSHSentencizer\n",
    "\n",
    "from matplotlib import pyplot as pl"
   ]
  },
  {
   "cell_type": "code",
   "execution_count": null,
   "metadata": {},
   "outputs": [],
   "source": [
    "stanza.download('en', package='mimic')\n",
    "nlp=stanza.Pipeline('en', package='mimic', processors='tokenize')"
   ]
  },
  {
   "cell_type": "code",
   "execution_count": null,
   "metadata": {},
   "outputs": [],
   "source": [
    "df = pd.read_csv('NOTEEVENTS.csv', nrows = 500000, low_memory = False)\n",
    "\n",
    "# Lowercase the column names for easier typing.\n",
    "df.columns = df.columns.str.lower()"
   ]
  },
  {
   "cell_type": "code",
   "execution_count": null,
   "metadata": {},
   "outputs": [],
   "source": [
    "discharge_summaries=df[df.category=='Discharge summary'].text\n",
    "physician=df[df.category=='Physician '].text\n",
    "general=df[df.category=='General'].text\n",
    "consult=df[df.category=='Consult'].text\n",
    "nursing=df[df.category=='Nursing'].text\n",
    "respiratory=df[df.category=='Respiratory '].text\n",
    "rehab=df[df.category=='Rehab Services'].text\n",
    "nutrition=df[df.category=='Nutrition'].text"
   ]
  },
  {
   "cell_type": "code",
   "execution_count": null,
   "metadata": {},
   "outputs": [],
   "source": [
    "start=time.time()\n",
    "general_sections=[]\n",
    "for i in range(0,1000):\n",
    "    doc=nlp(general.iloc[i])\n",
    "    for sent in doc.sentences:\n",
    "        fragment=sent.text.strip().replace('\\n',' ').replace('  ','')\n",
    "        if 3<len(fragment.split(' '))<500:\n",
    "            general_sections.append(fragment)\n",
    "end=time.time()\n",
    "print(end-start)"
   ]
  },
  {
   "cell_type": "code",
   "execution_count": null,
   "metadata": {},
   "outputs": [],
   "source": [
    "pd.Series(general_sections).iloc[0]"
   ]
  },
  {
   "cell_type": "code",
   "execution_count": null,
   "metadata": {},
   "outputs": [],
   "source": [
    "start=time.time()\n",
    "physician_sections=[]\n",
    "for i in range(0,100):\n",
    "    doc=nlp(physician.iloc[i])\n",
    "    for sent in doc.sentences:\n",
    "        fragment=sent.text.strip().replace('\\n',' ').replace('  ','')\n",
    "        if 3<len(fragment.split(' '))<500:\n",
    "            physician_sections.append(fragment)\n",
    "end=time.time()\n",
    "print(end-start)"
   ]
  },
  {
   "cell_type": "code",
   "execution_count": null,
   "metadata": {},
   "outputs": [],
   "source": [
    "start=time.time()\n",
    "consult_sections=[]\n",
    "for i in range(0,min(100, consult.shape[0])):\n",
    "    doc=nlp(consult.iloc[i])\n",
    "    for sent in doc.sentences:\n",
    "        fragment=sent.text.strip().replace('\\n',' ').replace('  ','')\n",
    "        if 3<len(fragment.split(' '))<500:\n",
    "            consult_sections.append(fragment)\n",
    "end=time.time()\n",
    "print(end-start)"
   ]
  },
  {
   "cell_type": "code",
   "execution_count": null,
   "metadata": {},
   "outputs": [],
   "source": [
    "start=time.time()\n",
    "nursing_sections=[]\n",
    "for i in range(0,min(100, nursing.shape[0])):\n",
    "    doc=nlp(nursing.iloc[i])\n",
    "    for sent in doc.sentences:\n",
    "        fragment=sent.text.strip().replace('\\n',' ').replace('  ','')\n",
    "        if 3<len(fragment.split(' '))<500:\n",
    "            nursing_sections.append(fragment)\n",
    "end=time.time()\n",
    "print(end-start)"
   ]
  },
  {
   "cell_type": "code",
   "execution_count": null,
   "metadata": {},
   "outputs": [],
   "source": [
    "start=time.time()\n",
    "respiratory_sections=[]\n",
    "for i in range(0,min(100, respiratory.shape[0])):\n",
    "    doc=nlp(respiratory.iloc[i])\n",
    "    for sent in doc.sentences:\n",
    "        fragment=sent.text.strip().replace('\\n',' ').replace('  ','')\n",
    "        if 3<len(fragment.split(' '))<500:\n",
    "            respiratory_sections.append(fragment)\n",
    "end=time.time()\n",
    "print(end-start)"
   ]
  },
  {
   "cell_type": "code",
   "execution_count": null,
   "metadata": {},
   "outputs": [],
   "source": [
    "start=time.time()\n",
    "rehab_sections=[]\n",
    "for i in range(0,min(100, rehab.shape[0])):\n",
    "    doc=nlp(rehab.iloc[i])\n",
    "    for sent in doc.sentences:\n",
    "        fragment=sent.text.strip().replace('\\n',' ').replace('  ','')\n",
    "        if 3<len(fragment.split(' '))<500:\n",
    "            rehab_sections.append(fragment)\n",
    "end=time.time()\n",
    "print(end-start)"
   ]
  },
  {
   "cell_type": "code",
   "execution_count": null,
   "metadata": {},
   "outputs": [],
   "source": [
    "start=time.time()\n",
    "nutrition_sections=[]\n",
    "for i in range(0,min(100, nutrition.shape[0])):\n",
    "    doc=nlp(nutrition.iloc[i])\n",
    "    for sent in doc.sentences:\n",
    "        fragment=sent.text.strip().replace('\\n',' ').replace('  ','')\n",
    "        if 3<len(fragment.split(' '))<500:\n",
    "            nutrition_sections.append(fragment)\n",
    "end=time.time()\n",
    "print(end-start)"
   ]
  },
  {
   "cell_type": "code",
   "execution_count": null,
   "metadata": {},
   "outputs": [],
   "source": [
    "start=time.time()\n",
    "dc_sections=[]\n",
    "for i in range(0,min(100, discharge_summaries.shape[0])):\n",
    "    doc=nlp(discharge_summaries.iloc[i])\n",
    "    for sent in doc.sentences:\n",
    "        fragment=sent.text.strip().replace('\\n',' ').replace('  ','')\n",
    "        if 3<len(fragment.split(' '))<500:\n",
    "            dc_sections.append(fragment)\n",
    "end=time.time()\n",
    "print(end-start)"
   ]
  },
  {
   "cell_type": "code",
   "execution_count": null,
   "metadata": {},
   "outputs": [],
   "source": [
    "dc_sums=pd.Series(dc_sections[0:100])\n",
    "physician_notes=pd.Series(physician_sections[0:100])\n",
    "general_notes=pd.Series(general_sections[0:100])\n",
    "consult_notes=pd.Series(consult_sections[0:100])\n",
    "nursing_notes=pd.Series(nursing_sections[0:100])\n",
    "resp_notes=pd.Series(respiratory_sections[0:100])\n",
    "rehab_notes=pd.Series(rehab_sections[0:100])\n",
    "nutrition_notes=pd.Series(nutrition_sections[0:100])"
   ]
  },
  {
   "cell_type": "code",
   "execution_count": null,
   "metadata": {},
   "outputs": [],
   "source": [
    "dc_sums.to_csv('MIMIC_stanza_discharge_summaries.csv', index=False)\n",
    "physician_notes.to_csv('MIMIC_stanza_physician_notes.csv', index=False)\n",
    "general_notes.to_csv('MIMIC_stanza_general_notes.csv', index=False)\n",
    "consult_notes.to_csv('MIMIC_stanza_consult_notes.csv', index=False)\n",
    "nursing_notes.to_csv('MIMIC_stanza_nursing_notes.csv', index=False)\n",
    "resp_notes.to_csv('MIMIC_stanza_resp_notes.csv', index=False)\n",
    "rehab_notes.to_csv('MIMIC_stanza_rehab_notes.csv', index=False)\n",
    "nutrition_notes.to_csv('MIMIC_stanza_nutrition_notes.csv', index=False)"
   ]
  },
  {
   "cell_type": "code",
   "execution_count": null,
   "metadata": {},
   "outputs": [],
   "source": []
  },
  {
   "cell_type": "code",
   "execution_count": null,
   "metadata": {},
   "outputs": [],
   "source": []
  },
  {
   "cell_type": "code",
   "execution_count": null,
   "metadata": {},
   "outputs": [],
   "source": [
    "text_dc=discharge_summaries.iloc[0]\n",
    "text_phys=physician.iloc[12]\n",
    "text_consult=consult.iloc[2]"
   ]
  },
  {
   "cell_type": "code",
   "execution_count": null,
   "metadata": {},
   "outputs": [],
   "source": [
    "doc=nlp(text_consult)\n",
    "final_fragments=[]\n",
    "for sent in doc.sentences:\n",
    "    fragment=sent.text.strip().replace('\\n',' ').replace('  ',' ')\n",
    "    if 3<len(fragment.split(' '))<500:\n",
    "        final_fragments.append(fragment)\n",
    "\n",
    "\n",
    "for frag in final_fragments:\n",
    "    print(frag)\n",
    "    print('----'*10)\n"
   ]
  },
  {
   "cell_type": "code",
   "execution_count": null,
   "metadata": {},
   "outputs": [],
   "source": []
  }
 ],
 "metadata": {
  "kernelspec": {
   "display_name": "Python 3 (ipykernel)",
   "language": "python",
   "name": "python3"
  },
  "language_info": {
   "codemirror_mode": {
    "name": "ipython",
    "version": 3
   },
   "file_extension": ".py",
   "mimetype": "text/x-python",
   "name": "python",
   "nbconvert_exporter": "python",
   "pygments_lexer": "ipython3",
   "version": "3.8.12"
  }
 },
 "nbformat": 4,
 "nbformat_minor": 4
}
