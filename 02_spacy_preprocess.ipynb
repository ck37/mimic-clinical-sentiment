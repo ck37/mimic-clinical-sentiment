{
 "cells": [
  {
   "cell_type": "code",
   "execution_count": null,
   "metadata": {},
   "outputs": [],
   "source": [
    "#1/5 Changes: Updated to pySBD\n",
    "#This will generate 100 fragments with keywords\n",
    "#change to data/"
   ]
  },
  {
   "cell_type": "code",
   "execution_count": null,
   "metadata": {
    "colab": {
     "base_uri": "https://localhost:8080/",
     "height": 50
    },
    "executionInfo": {
     "elapsed": 323,
     "status": "ok",
     "timestamp": 1602424774424,
     "user": {
      "displayName": "Chris Kennedy",
      "photoUrl": "https://lh3.googleusercontent.com/a-/AOh14GiD_hpxe07s1ciHg3m-GksY10iiuhNWK9FAqpL_IntRUJH4IJTK2KROhyVoN6ngjs4-KERVCTDJcpZtiVs2ErG7qhUASKB8scusryurMLLDzZDXpQLxuH9-CCtpqQSQ1NBLp2H962Z7mjug3o_forRggl4VokvJCSCoVipyOrhTI5xWllPt3JHBM6gkV-tkyLMcfq0PZPPwNkKDs4ZBcC8NSn5rTDwQ-2LYJ6rVGagX_X35oPj8TxmR-Q3V2ltd-CGHsudc5joVscRnWg6aKJ4M-rXQ4OQMpPx_GbYaSreiDGEonZaS-ZJj9PxkjPAcHsJ_k8SoQixCVKeQcPbDHW7GSbmshoRBdWmcyvWbSVzhmgGccTDKwLdUfBrVSu0-QdboOKLLncEtLjclTrmO9413uPQbpiTdQ_kLd8FGuK-6MHyOv0fGcywY_F0dH4fMAbgOija0CZEGmnHo1KQ9BPyJREvHrWGrgSTFeISsr8tovTvzwMGyLPc49Gz88e9wRnAFm5lMdr3x4YkjT2KhP-AliAzqlpr0idEyyCbzlD8MsnUgbdRh600FQmWcEJzPJ8KgMXpO3rtkRzGGr0dxHjvzRKfp47ScSEZe3iQeCsvpQKafLvG7cTqcwXhy2cT5fkp-d6Hxr10oXgOOaR5UfW0XoF9gXbf4xcCdZHGrqmVjlrHNU0X-yoaGQXqd5HAr9YlM0IT1T6jnoK6hzyXnRLFk_UXZsWcvQUI1fcjd0x0vtgqBRE6-n8Bsloz-4rnddIDj9Q=s64",
      "userId": "05423414885832015580"
     },
     "user_tz": 240
    },
    "id": "rNqLIArs85P1",
    "outputId": "c8d395fb-a4fe-4818-8cc3-1aaafb1a9bdc"
   },
   "outputs": [],
   "source": [
    "import os, re\n",
    "import pandas as pd\n",
    "import numpy as np\n",
    "import time\n",
    "\n",
    "\n",
    "import medspacy, spacy, pysbd\n",
    "from medspacy.ner import TargetRule \n",
    "from medspacy.visualization import visualize_ent\n",
    "#from medspacy.sentence_splitting import PyRuSHSentencizer\n",
    "from pysbd.utils import PySBDFactory\n",
    "from keywords import find_keywords2\n",
    "\n",
    "from matplotlib import pyplot as plt\n"
   ]
  },
  {
   "cell_type": "code",
   "execution_count": null,
   "metadata": {
    "colab": {
     "base_uri": "https://localhost:8080/",
     "height": 118
    },
    "executionInfo": {
     "elapsed": 18565,
     "status": "ok",
     "timestamp": 1602425097162,
     "user": {
      "displayName": "Chris Kennedy",
      "photoUrl": "https://lh3.googleusercontent.com/a-/AOh14GiD_hpxe07s1ciHg3m-GksY10iiuhNWK9FAqpL_IntRUJH4IJTK2KROhyVoN6ngjs4-KERVCTDJcpZtiVs2ErG7qhUASKB8scusryurMLLDzZDXpQLxuH9-CCtpqQSQ1NBLp2H962Z7mjug3o_forRggl4VokvJCSCoVipyOrhTI5xWllPt3JHBM6gkV-tkyLMcfq0PZPPwNkKDs4ZBcC8NSn5rTDwQ-2LYJ6rVGagX_X35oPj8TxmR-Q3V2ltd-CGHsudc5joVscRnWg6aKJ4M-rXQ4OQMpPx_GbYaSreiDGEonZaS-ZJj9PxkjPAcHsJ_k8SoQixCVKeQcPbDHW7GSbmshoRBdWmcyvWbSVzhmgGccTDKwLdUfBrVSu0-QdboOKLLncEtLjclTrmO9413uPQbpiTdQ_kLd8FGuK-6MHyOv0fGcywY_F0dH4fMAbgOija0CZEGmnHo1KQ9BPyJREvHrWGrgSTFeISsr8tovTvzwMGyLPc49Gz88e9wRnAFm5lMdr3x4YkjT2KhP-AliAzqlpr0idEyyCbzlD8MsnUgbdRh600FQmWcEJzPJ8KgMXpO3rtkRzGGr0dxHjvzRKfp47ScSEZe3iQeCsvpQKafLvG7cTqcwXhy2cT5fkp-d6Hxr10oXgOOaR5UfW0XoF9gXbf4xcCdZHGrqmVjlrHNU0X-yoaGQXqd5HAr9YlM0IT1T6jnoK6hzyXnRLFk_UXZsWcvQUI1fcjd0x0vtgqBRE6-n8Bsloz-4rnddIDj9Q=s64",
      "userId": "05423414885832015580"
     },
     "user_tz": 240
    },
    "id": "q7ybOPjm86b3",
    "outputId": "13cd4645-47fa-4e84-fc0f-d3abc3b60602"
   },
   "outputs": [],
   "source": [
    "raw = pd.read_csv('data-raw/NOTEEVENTS.csv', nrows = 500000, low_memory = False)\n",
    "\n",
    "# Lowercase the column names for easier typing.\n",
    "raw.columns = raw.columns.str.lower()\n",
    "\n",
    "print(\"Dataframe shape:\", raw.shape)\n",
    "print(\"Dataframe columns:\", raw.columns)"
   ]
  },
  {
   "cell_type": "code",
   "execution_count": null,
   "metadata": {},
   "outputs": [],
   "source": [
    "raw1=raw.drop_duplicates(subset=['subject_id','hadm_id', 'chartdate', 'category', 'description', 'cgid'], keep='last')\n",
    "print(\"Dropping duplicates, Dataframe shape:\", raw1.shape)"
   ]
  },
  {
   "cell_type": "code",
   "execution_count": null,
   "metadata": {},
   "outputs": [],
   "source": [
    "drop=['Echo', 'ECG', 'Case Management ', 'Social Work', 'Pharmacy']\n",
    "df=raw1[~raw1['category'].isin(drop)]\n",
    "print(\"Dropping note types, Dataframe shape:\", df.shape)"
   ]
  },
  {
   "cell_type": "code",
   "execution_count": null,
   "metadata": {},
   "outputs": [],
   "source": [
    "all_keywords=[]\n",
    "neg=pd.read_csv('data/negative_keywords.csv').iloc[::,0]\n",
    "pos=pd.read_csv('data/positive_keywords.csv').iloc[::,0]\n",
    "\n",
    "all_keywords.append(neg.apply(lambda x: x.strip()).tolist())\n",
    "all_keywords.append(pos.apply(lambda x: x.strip()).tolist())\n",
    "\n",
    "keywords=[i.lower() for i in all_keywords for i in i]\n",
    "\n",
    "neg_keywords=neg.apply(lambda x: x.strip().lower()).tolist()\n",
    "pos_keywords=pos.apply(lambda x: x.strip().lower()).tolist()"
   ]
  },
  {
   "cell_type": "code",
   "execution_count": null,
   "metadata": {},
   "outputs": [],
   "source": [
    "#sentencizer=PyRuSHSentencizer()\n",
    "\n",
    "\n",
    "nlp = medspacy.load(disable=['medspacy_pyrush', 'medspacy_target_matcher', 'medspacy_context'])\n",
    "print(nlp.pipe_names)\n",
    "nlp.add_pipe('medspacy_pysbd')\n",
    "print(nlp.pipe_names)\n"
   ]
  },
  {
   "cell_type": "code",
   "execution_count": null,
   "metadata": {
    "scrolled": true
   },
   "outputs": [],
   "source": [
    "start=time.time()\n",
    "sections=[]\n",
    "\n",
    "##Change range to use all notes##\n",
    "for i in range(0,min(500, df.text.shape[0])):\n",
    "    doc=nlp(df.text.iloc[i])\n",
    "    for sent in doc.sents:\n",
    "        fragment=sent.text.strip().replace('\\n',' ').replace('  ','')\n",
    "        \n",
    "        #Filters out short and long fragments\n",
    "        if 5<len(fragment.split(' '))<500:\n",
    "            sections.append(fragment)\n",
    "end=time.time()\n",
    "print(end-start)"
   ]
  },
  {
   "cell_type": "code",
   "execution_count": null,
   "metadata": {},
   "outputs": [],
   "source": [
    "sentences=pd.DataFrame(sections, columns=['text'])\n",
    "print(sentences.shape)"
   ]
  },
  {
   "cell_type": "code",
   "execution_count": null,
   "metadata": {},
   "outputs": [],
   "source": [
    "def keyword_score(keyword_list, neg_keywords, pos_keywords):\n",
    "    pos_score=len([i for i in keyword_list if i in pos_keywords])\n",
    "    neg_score=len([i for i in keyword_list if i in neg_keywords])\n",
    "    if neg_score+pos_score>0:\n",
    "        return neg_score/(neg_score+pos_score)"
   ]
  },
  {
   "cell_type": "code",
   "execution_count": null,
   "metadata": {},
   "outputs": [],
   "source": [
    "sentences['keywords']=sentences.text.map(lambda x: list(find_keywords2(x, keywords)))\n",
    "sentences['keyword_presence']=sentences.keywords.map(lambda x: True if len(x)>0 else False)\n",
    "sentences['keyword_score']=sentences.keywords.map(lambda x: keyword_score(x, neg_keywords, pos_keywords))"
   ]
  },
  {
   "cell_type": "code",
   "execution_count": null,
   "metadata": {},
   "outputs": [],
   "source": [
    "print('starting number of notes', min(500, df.shape[0]))\n",
    "print('total number of sentence fragments', sentences.shape[0])\n",
    "print('number of sentences with keywords', sentences.keyword_presence.sum())"
   ]
  },
  {
   "cell_type": "code",
   "execution_count": null,
   "metadata": {},
   "outputs": [],
   "source": []
  },
  {
   "cell_type": "code",
   "execution_count": null,
   "metadata": {},
   "outputs": [],
   "source": [
    "relevant_fragments=sentences[sentences.keyword_presence==1].text\n",
    "hundred_fragments=relevant_fragments.sample(n=100, random_state=1)\n"
   ]
  },
  {
   "cell_type": "code",
   "execution_count": null,
   "metadata": {},
   "outputs": [],
   "source": [
    "hundred_fragments.iloc[75]"
   ]
  },
  {
   "cell_type": "code",
   "execution_count": null,
   "metadata": {},
   "outputs": [],
   "source": [
    "hundred_fragments.to_csv('data/hundred_fragments.csv', index=False)"
   ]
  },
  {
   "cell_type": "code",
   "execution_count": null,
   "metadata": {},
   "outputs": [],
   "source": []
  },
  {
   "cell_type": "code",
   "execution_count": null,
   "metadata": {},
   "outputs": [],
   "source": []
  },
  {
   "cell_type": "code",
   "execution_count": null,
   "metadata": {},
   "outputs": [],
   "source": []
  },
  {
   "cell_type": "code",
   "execution_count": null,
   "metadata": {},
   "outputs": [],
   "source": [
    "#test\n",
    "text=df.text.iloc[100]"
   ]
  },
  {
   "cell_type": "code",
   "execution_count": null,
   "metadata": {},
   "outputs": [],
   "source": [
    "#Visualizing all sections (to see if they make sense)\n",
    "#nlp = medspacy.load(enable=[\"sectionizer\"])\n",
    "#print(nlp.pipe_names)\n",
    "\n",
    "doc=nlp(text)\n",
    "#visualize_ent(doc)"
   ]
  },
  {
   "cell_type": "code",
   "execution_count": null,
   "metadata": {
    "scrolled": true
   },
   "outputs": [],
   "source": [
    "final_fragments=[]\n",
    "for sent in doc.sents:\n",
    "    fragment=sent.text.strip().replace('\\n',' ').replace('   ',' ')\n",
    "    if 5<len(fragment.split(' '))<500:\n",
    "        final_fragments.append(fragment)\n",
    "\n",
    "\n",
    "for frag in final_fragments[0:30]:\n",
    "    print(frag)\n",
    "    print('----'*10)"
   ]
  },
  {
   "cell_type": "code",
   "execution_count": null,
   "metadata": {},
   "outputs": [],
   "source": [
    "final_fragments=[]\n",
    "for sent in doc_pysbd.sents:\n",
    "    fragment=sent.text.strip().replace('\\n',' ').replace('  ','')\n",
    "    if len(fragment)>10: final_fragments.append(fragment)\n",
    "\n",
    "\n",
    "for frag in final_fragments:\n",
    "    print(frag)\n",
    "    print('----'*10)"
   ]
  },
  {
   "cell_type": "code",
   "execution_count": null,
   "metadata": {},
   "outputs": [],
   "source": []
  }
 ],
 "metadata": {
  "colab": {
   "authorship_tag": "ABX9TyMvLib6eAZojVgTuuMLAZ1a",
   "collapsed_sections": [],
   "name": "MIMIC Notes Demo-Chris.ipynb",
   "provenance": [],
   "toc_visible": true
  },
  "kernelspec": {
   "display_name": "Python 3 (ipykernel)",
   "language": "python",
   "name": "python3"
  },
  "language_info": {
   "codemirror_mode": {
    "name": "ipython",
    "version": 3
   },
   "file_extension": ".py",
   "mimetype": "text/x-python",
   "name": "python",
   "nbconvert_exporter": "python",
   "pygments_lexer": "ipython3",
   "version": "3.8.12"
  }
 },
 "nbformat": 4,
 "nbformat_minor": 4
}
