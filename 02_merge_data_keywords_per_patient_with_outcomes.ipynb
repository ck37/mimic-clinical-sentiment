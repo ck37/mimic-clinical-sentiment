{
 "cells": [
  {
   "cell_type": "code",
   "execution_count": null,
   "metadata": {},
   "outputs": [],
   "source": [
    "#Merge outcomes\n",
    "#[x]Nonsurvivor = death or discharge to hospice \n",
    "#[]ventilator\n",
    "#[]dialysis\n",
    "#[]CPR\n",
    "#[]trach/peg\n",
    "#vasopressors "
   ]
  },
  {
   "cell_type": "code",
   "execution_count": null,
   "metadata": {
    "colab": {
     "base_uri": "https://localhost:8080/",
     "height": 50
    },
    "executionInfo": {
     "elapsed": 323,
     "status": "ok",
     "timestamp": 1602424774424,
     "user": {
      "displayName": "Chris Kennedy",
      "photoUrl": "https://lh3.googleusercontent.com/a-/AOh14GiD_hpxe07s1ciHg3m-GksY10iiuhNWK9FAqpL_IntRUJH4IJTK2KROhyVoN6ngjs4-KERVCTDJcpZtiVs2ErG7qhUASKB8scusryurMLLDzZDXpQLxuH9-CCtpqQSQ1NBLp2H962Z7mjug3o_forRggl4VokvJCSCoVipyOrhTI5xWllPt3JHBM6gkV-tkyLMcfq0PZPPwNkKDs4ZBcC8NSn5rTDwQ-2LYJ6rVGagX_X35oPj8TxmR-Q3V2ltd-CGHsudc5joVscRnWg6aKJ4M-rXQ4OQMpPx_GbYaSreiDGEonZaS-ZJj9PxkjPAcHsJ_k8SoQixCVKeQcPbDHW7GSbmshoRBdWmcyvWbSVzhmgGccTDKwLdUfBrVSu0-QdboOKLLncEtLjclTrmO9413uPQbpiTdQ_kLd8FGuK-6MHyOv0fGcywY_F0dH4fMAbgOija0CZEGmnHo1KQ9BPyJREvHrWGrgSTFeISsr8tovTvzwMGyLPc49Gz88e9wRnAFm5lMdr3x4YkjT2KhP-AliAzqlpr0idEyyCbzlD8MsnUgbdRh600FQmWcEJzPJ8KgMXpO3rtkRzGGr0dxHjvzRKfp47ScSEZe3iQeCsvpQKafLvG7cTqcwXhy2cT5fkp-d6Hxr10oXgOOaR5UfW0XoF9gXbf4xcCdZHGrqmVjlrHNU0X-yoaGQXqd5HAr9YlM0IT1T6jnoK6hzyXnRLFk_UXZsWcvQUI1fcjd0x0vtgqBRE6-n8Bsloz-4rnddIDj9Q=s64",
      "userId": "05423414885832015580"
     },
     "user_tz": 240
    },
    "id": "rNqLIArs85P1",
    "outputId": "c8d395fb-a4fe-4818-8cc3-1aaafb1a9bdc"
   },
   "outputs": [],
   "source": [
    "import os, re, math\n",
    "import pandas as pd\n",
    "import numpy as np\n",
    "import time\n",
    "from datetime import datetime"
   ]
  },
  {
   "cell_type": "code",
   "execution_count": null,
   "metadata": {
    "colab": {
     "base_uri": "https://localhost:8080/",
     "height": 118
    },
    "executionInfo": {
     "elapsed": 18565,
     "status": "ok",
     "timestamp": 1602425097162,
     "user": {
      "displayName": "Chris Kennedy",
      "photoUrl": "https://lh3.googleusercontent.com/a-/AOh14GiD_hpxe07s1ciHg3m-GksY10iiuhNWK9FAqpL_IntRUJH4IJTK2KROhyVoN6ngjs4-KERVCTDJcpZtiVs2ErG7qhUASKB8scusryurMLLDzZDXpQLxuH9-CCtpqQSQ1NBLp2H962Z7mjug3o_forRggl4VokvJCSCoVipyOrhTI5xWllPt3JHBM6gkV-tkyLMcfq0PZPPwNkKDs4ZBcC8NSn5rTDwQ-2LYJ6rVGagX_X35oPj8TxmR-Q3V2ltd-CGHsudc5joVscRnWg6aKJ4M-rXQ4OQMpPx_GbYaSreiDGEonZaS-ZJj9PxkjPAcHsJ_k8SoQixCVKeQcPbDHW7GSbmshoRBdWmcyvWbSVzhmgGccTDKwLdUfBrVSu0-QdboOKLLncEtLjclTrmO9413uPQbpiTdQ_kLd8FGuK-6MHyOv0fGcywY_F0dH4fMAbgOija0CZEGmnHo1KQ9BPyJREvHrWGrgSTFeISsr8tovTvzwMGyLPc49Gz88e9wRnAFm5lMdr3x4YkjT2KhP-AliAzqlpr0idEyyCbzlD8MsnUgbdRh600FQmWcEJzPJ8KgMXpO3rtkRzGGr0dxHjvzRKfp47ScSEZe3iQeCsvpQKafLvG7cTqcwXhy2cT5fkp-d6Hxr10oXgOOaR5UfW0XoF9gXbf4xcCdZHGrqmVjlrHNU0X-yoaGQXqd5HAr9YlM0IT1T6jnoK6hzyXnRLFk_UXZsWcvQUI1fcjd0x0vtgqBRE6-n8Bsloz-4rnddIDj9Q=s64",
      "userId": "05423414885832015580"
     },
     "user_tz": 240
    },
    "id": "q7ybOPjm86b3",
    "outputId": "13cd4645-47fa-4e84-fc0f-d3abc3b60602"
   },
   "outputs": [],
   "source": [
    "%%time\n",
    "\n",
    "notes = pd.read_csv('data-raw/mimic/NOTEEVENTS.csv', \n",
    "                    usecols=['ROW_ID', 'SUBJECT_ID', 'HADM_ID', 'CATEGORY', 'DESCRIPTION', 'CHARTTIME','CGID', 'TEXT'],\n",
    "                    low_memory = False)\n",
    "patients = pd.read_csv('data-raw/mimic/PATIENTS.csv',\n",
    "                       usecols=['SUBJECT_ID', 'DOB', 'GENDER', 'EXPIRE_FLAG'],\n",
    "                       low_memory = False)\n",
    "admissions = pd.read_csv('data-raw/mimic/ADMISSIONS.csv', \n",
    "                         usecols=['SUBJECT_ID', 'HADM_ID', 'ADMITTIME', 'DISCHTIME', \n",
    "                                  'ADMISSION_TYPE', 'DISCHARGE_LOCATION', 'INSURANCE', \n",
    "                                  'MARITAL_STATUS', 'LANGUAGE', 'ETHNICITY', 'DIAGNOSIS'], low_memory = False)\n",
    "diagnoses = pd.read_csv('data-raw/mimic/DIAGNOSES_ICD.csv', low_memory = False)\n",
    "icu_stay = pd.read_csv('data-raw/mimic/ICUSTAYS.csv', low_memory = False)\n",
    "\n",
    "# Created in 01_extract_outcomes.ipynb\n",
    "chart_events = pd.read_csv('data/MIMIC_001_chartevents.csv', usecols=['SUBJECT_ID', 'HADM_ID', 'ITEMID', \n",
    "                                                                              'CHARTTIME', 'Mech_Vent', 'Trach'])\n",
    "input_events = pd.read_csv('data/MIMIC_001_inputevents.csv', usecols=['SUBJECT_ID', 'HADM_ID', 'ITEMID', \n",
    "                                                                              'CHARTTIME', 'Pressors'])\n",
    "all_event_id = pd.read_csv('data-raw/mimic/D_ITEMS.csv', usecols=['ITEMID', 'LABEL'])\n"
   ]
  },
  {
   "cell_type": "code",
   "execution_count": null,
   "metadata": {},
   "outputs": [],
   "source": [
    "\n",
    "hd_chart = pd.read_csv('data/MIMIC_001_chartevents_hd.csv', usecols=['SUBJECT_ID', 'HADM_ID', 'ITEMID', \n",
    "                                                                              'CHARTTIME', 'Dialysis'])\n",
    "hd_data = pd.read_csv('data/MIMIC_001_dataevents_hd.csv', usecols=['SUBJECT_ID', 'HADM_ID', 'ITEMID', \n",
    "                                                                              'CHARTTIME', 'Dialysis'])\n",
    "hd_input = pd.read_csv('data/MIMIC_001_inputevents_hd.csv', usecols=['SUBJECT_ID', 'HADM_ID', 'ITEMID', \n",
    "                                                                              'CHARTTIME', 'Dialysis'])\n",
    "hd_output = pd.read_csv('data/MIMIC_001_outputevents_hd.csv', usecols=['SUBJECT_ID', 'HADM_ID', 'ITEMID', \n",
    "                                                                              'CHARTTIME', 'Dialysis'])  \n",
    "hd_proc = pd.read_csv('data/MIMIC_001_procevents_hd.csv',\n",
    "                    usecols = ['SUBJECT_ID', 'HADM_ID', 'ITEMID', 'STARTTIME', 'Dialysis'])"
   ]
  },
  {
   "cell_type": "code",
   "execution_count": null,
   "metadata": {},
   "outputs": [],
   "source": [
    "print(\"Total number of patients with notes:\", len(notes.SUBJECT_ID.unique().tolist()))\n",
    "print(\"Total number of patients:\", len(patients.SUBJECT_ID.unique().tolist()))\n",
    "print(\"Total number of patients in admissions:\", len(admissions.SUBJECT_ID.unique().tolist()))\n",
    "print(\"Total number of patients with ICD9:\", len(diagnoses.SUBJECT_ID.unique().tolist()))\n",
    "print(\"Total number of notewriters:\", len(notes.HADM_ID.unique().tolist()))"
   ]
  },
  {
   "cell_type": "code",
   "execution_count": null,
   "metadata": {},
   "outputs": [],
   "source": [
    "hd_proc['CHARTTIME']=hd_proc['STARTTIME']\n",
    "hd_proc.pop('STARTTIME')\n",
    "print('')"
   ]
  },
  {
   "cell_type": "code",
   "execution_count": null,
   "metadata": {},
   "outputs": [],
   "source": [
    "hd0=pd.concat([hd_chart, hd_data]).drop_duplicates(['SUBJECT_ID', 'HADM_ID', 'ITEMID', 'CHARTTIME'])\n",
    "hd1=pd.concat([hd0, hd_input]).drop_duplicates(['SUBJECT_ID', 'HADM_ID', 'ITEMID', 'CHARTTIME'])\n",
    "hd2=pd.concat([hd1, hd_output]).drop_duplicates(['SUBJECT_ID', 'HADM_ID', 'ITEMID', 'CHARTTIME'])\n",
    "hd_df=pd.concat([hd2, hd_input]).drop_duplicates(['SUBJECT_ID', 'HADM_ID', 'ITEMID', 'CHARTTIME'])"
   ]
  },
  {
   "cell_type": "code",
   "execution_count": null,
   "metadata": {},
   "outputs": [],
   "source": [
    "len(hd_df.SUBJECT_ID.unique())"
   ]
  },
  {
   "cell_type": "code",
   "execution_count": null,
   "metadata": {},
   "outputs": [],
   "source": [
    "len(input_events.SUBJECT_ID.unique())"
   ]
  },
  {
   "cell_type": "code",
   "execution_count": null,
   "metadata": {
    "colab": {
     "base_uri": "https://localhost:8080/",
     "height": 252
    },
    "executionInfo": {
     "elapsed": 329,
     "status": "ok",
     "timestamp": 1602426010169,
     "user": {
      "displayName": "Chris Kennedy",
      "photoUrl": "https://lh3.googleusercontent.com/a-/AOh14GiD_hpxe07s1ciHg3m-GksY10iiuhNWK9FAqpL_IntRUJH4IJTK2KROhyVoN6ngjs4-KERVCTDJcpZtiVs2ErG7qhUASKB8scusryurMLLDzZDXpQLxuH9-CCtpqQSQ1NBLp2H962Z7mjug3o_forRggl4VokvJCSCoVipyOrhTI5xWllPt3JHBM6gkV-tkyLMcfq0PZPPwNkKDs4ZBcC8NSn5rTDwQ-2LYJ6rVGagX_X35oPj8TxmR-Q3V2ltd-CGHsudc5joVscRnWg6aKJ4M-rXQ4OQMpPx_GbYaSreiDGEonZaS-ZJj9PxkjPAcHsJ_k8SoQixCVKeQcPbDHW7GSbmshoRBdWmcyvWbSVzhmgGccTDKwLdUfBrVSu0-QdboOKLLncEtLjclTrmO9413uPQbpiTdQ_kLd8FGuK-6MHyOv0fGcywY_F0dH4fMAbgOija0CZEGmnHo1KQ9BPyJREvHrWGrgSTFeISsr8tovTvzwMGyLPc49Gz88e9wRnAFm5lMdr3x4YkjT2KhP-AliAzqlpr0idEyyCbzlD8MsnUgbdRh600FQmWcEJzPJ8KgMXpO3rtkRzGGr0dxHjvzRKfp47ScSEZe3iQeCsvpQKafLvG7cTqcwXhy2cT5fkp-d6Hxr10oXgOOaR5UfW0XoF9gXbf4xcCdZHGrqmVjlrHNU0X-yoaGQXqd5HAr9YlM0IT1T6jnoK6hzyXnRLFk_UXZsWcvQUI1fcjd0x0vtgqBRE6-n8Bsloz-4rnddIDj9Q=s64",
      "userId": "05423414885832015580"
     },
     "user_tz": 240
    },
    "id": "pHHDSer9B9Wv",
    "outputId": "1f6f781f-99bb-4a50-d9ed-13ac22a8c5e3"
   },
   "outputs": [],
   "source": [
    "# Review distribution of the notes category \n",
    "notes.CATEGORY.value_counts()"
   ]
  },
  {
   "cell_type": "code",
   "execution_count": null,
   "metadata": {},
   "outputs": [],
   "source": [
    "#Isolate columns of interest only\n",
    "#patients_clean=patients[['SUBJECT_ID', 'DOB', 'GENDER', 'EXPIRE_FLAG']]\n",
    "#notes_clean=notes[['SUBJECT_ID', 'HADM_ID', 'CATEGORY', 'DESCRIPTION', 'CHARTTIME','CGID', 'TEXT']]\n",
    "#admissions_clean=admissions[['SUBJECT_ID', 'HADM_ID', 'ADMITTIME', 'DISCHTIME', 'ADMISSION_TYPE', 'DISCHARGE_LOCATION', 'INSURANCE', 'MARITAL_STATUS', 'LANGUAGE', 'ETHNICITY', 'DIAGNOSIS']]"
   ]
  },
  {
   "cell_type": "code",
   "execution_count": null,
   "metadata": {},
   "outputs": [],
   "source": [
    "input_events.head(5)"
   ]
  },
  {
   "cell_type": "code",
   "execution_count": null,
   "metadata": {},
   "outputs": [],
   "source": [
    "all_event_id"
   ]
  },
  {
   "cell_type": "code",
   "execution_count": null,
   "metadata": {},
   "outputs": [],
   "source": [
    "all_event_id.LABEL.unique()"
   ]
  },
  {
   "cell_type": "code",
   "execution_count": null,
   "metadata": {},
   "outputs": [],
   "source": [
    "#Merge patient and admission data\n",
    "merge0=pd.merge(patients, admissions, on='SUBJECT_ID', how='left')\n",
    "\n",
    "#get the age per patient\n",
    "merge0['date_of_admission'] = pd.to_datetime(merge0['ADMITTIME']).dt.date\n",
    "merge0['birthdate'] = pd.to_datetime(merge0['DOB']).dt.date\n",
    "merge0['AGE'] = merge0.apply(lambda e: round((e['date_of_admission'] - e['birthdate']).days/365, 0), axis=1)\n",
    "merge0=merge0.drop(['DOB', 'birthdate'], axis=1)\n",
    "\n",
    "#Merge compiled patient data with notes \n",
    "merge1=pd.merge(merge0, notes, on=['SUBJECT_ID','HADM_ID'], how='left')\n",
    "\n",
    "#Merge chart_events and ITEM ID LABELfor MV and Trach\n",
    "merge2=pd.merge(chart_events, all_event_id, on='ITEMID', how='left')\n",
    "\n",
    "#Merge input_events and ITEM ID LABEL for Pressors\n",
    "merge3=pd.merge(input_events, all_event_id, on='ITEMID', how='left')\n",
    "\n",
    "#Merge hd_df and ITEM ID LABEL for HD \n",
    "merge4=pd.merge(hd_df, all_event_id, on='ITEMID', how='left')\n"
   ]
  },
  {
   "cell_type": "code",
   "execution_count": null,
   "metadata": {},
   "outputs": [],
   "source": [
    "merge4.head(5)"
   ]
  },
  {
   "cell_type": "code",
   "execution_count": null,
   "metadata": {},
   "outputs": [],
   "source": [
    "merge2['CHARTTIME']=pd.to_datetime(merge2.CHARTTIME)\n",
    "merge2['event_date']=merge2.CHARTTIME.dt.date\n",
    "merge2=merge2.drop(['CHARTTIME', 'ITEMID', 'LABEL'], axis=1).drop_duplicates(keep='last')"
   ]
  },
  {
   "cell_type": "code",
   "execution_count": null,
   "metadata": {},
   "outputs": [],
   "source": [
    "merge3['CHARTTIME']=pd.to_datetime(merge3.CHARTTIME)\n",
    "merge3['event_date']=merge3.CHARTTIME.dt.date\n",
    "merge3=merge3.drop(['CHARTTIME', 'ITEMID', 'LABEL'], axis=1).drop_duplicates(keep='last')"
   ]
  },
  {
   "cell_type": "code",
   "execution_count": null,
   "metadata": {},
   "outputs": [],
   "source": [
    "merge4['CHARTTIME']=pd.to_datetime(merge4.CHARTTIME)\n",
    "merge4['event_date']=merge4.CHARTTIME.dt.date\n",
    "merge4=merge4.drop(['CHARTTIME', 'ITEMID', 'LABEL'], axis=1).drop_duplicates(keep='last')"
   ]
  },
  {
   "cell_type": "code",
   "execution_count": null,
   "metadata": {},
   "outputs": [],
   "source": [
    "mv_days=merge2[merge2.Mech_Vent==1].groupby(['HADM_ID'])['event_date'].apply(lambda x: x.nunique())\n",
    "mv_start=merge2[merge2.Mech_Vent==1].groupby(['HADM_ID'])['event_date'].min()\n",
    "mv_end=merge2[merge2.Mech_Vent==1].groupby(['HADM_ID'])['event_date'].max()\n",
    "mv_df=pd.concat([mv_days, mv_start, mv_end], axis=1).reset_index()\n",
    "mv_df.columns=['HADM_ID', 'num_mv_days', 'mv_start_date','mv_end_date']\n",
    "\n",
    "trach_days=merge2[merge2.Trach==1].groupby(['HADM_ID'])['event_date'].apply(lambda x: x.nunique())\n",
    "trach_start=merge2[merge2.Trach==1].groupby(['HADM_ID'])['event_date'].min()\n",
    "trach_end=merge2[merge2.Trach==1].groupby(['HADM_ID'])['event_date'].max()\n",
    "trach_df=pd.concat([trach_days, trach_start, trach_end], axis=1).reset_index()\n",
    "trach_df.columns=['HADM_ID', 'num_trach_days', 'trach_start_date','trach_end_date']\n",
    "\n",
    "dialysis_days=merge4[merge4.Dialysis==1].groupby(['HADM_ID'])['event_date'].apply(lambda x: x.nunique())\n",
    "dialysis_start=merge4[merge4.Dialysis==1].groupby(['HADM_ID'])['event_date'].min()\n",
    "dialysis_end=merge4[merge4.Dialysis==1].groupby(['HADM_ID'])['event_date'].max()\n",
    "dialysis_df=pd.concat([dialysis_days, dialysis_start, dialysis_end], axis=1).reset_index()\n",
    "dialysis_df.columns=['HADM_ID', 'num_dialysis_days', 'dialysis_start_date','dialysis_end_date']\n",
    "\n",
    "pressors_days=merge3[merge3.Pressors==1].groupby(['HADM_ID'])['event_date'].apply(lambda x: x.nunique())\n",
    "pressors_start=merge3[merge3.Pressors==1].groupby(['HADM_ID'])['event_date'].min()\n",
    "pressors_end=merge3[merge3.Pressors==1].groupby(['HADM_ID'])['event_date'].max()\n",
    "pressors_df=pd.concat([pressors_days, pressors_start, pressors_end], axis=1).reset_index()\n",
    "pressors_df.columns=['HADM_ID', 'num_pressor_days', 'pressors_start_date','pressors_end_date']\n"
   ]
  },
  {
   "cell_type": "code",
   "execution_count": null,
   "metadata": {},
   "outputs": [],
   "source": [
    "print(len(mv_df.HADM_ID.unique().tolist()))\n",
    "print(len(trach_df.HADM_ID.unique().tolist()))\n",
    "print(len(dialysis_df.HADM_ID.unique().tolist()))\n",
    "print(len(pressors_df.HADM_ID.unique().tolist()))"
   ]
  },
  {
   "cell_type": "code",
   "execution_count": null,
   "metadata": {},
   "outputs": [],
   "source": [
    "ev0=pd.merge(mv_df, trach_df, on='HADM_ID', how='left')\n",
    "ev1=pd.merge(ev0, dialysis_df, on='HADM_ID', how='left')\n",
    "ev2=pd.merge(ev1, pressors_df, on='HADM_ID', how='left')\n",
    "ev2=ev2.fillna({'num_intubated_days': 0, 'num_trach_days': 0, 'num_dialysis_days':0, 'num_pressor_days':0})"
   ]
  },
  {
   "cell_type": "code",
   "execution_count": null,
   "metadata": {},
   "outputs": [],
   "source": [
    "#Merge merge1 with merge2\n",
    "merge5=pd.merge(merge1, ev2, on=['HADM_ID'], how='left')"
   ]
  },
  {
   "cell_type": "code",
   "execution_count": null,
   "metadata": {},
   "outputs": [],
   "source": [
    "merge5.shape"
   ]
  },
  {
   "cell_type": "code",
   "execution_count": null,
   "metadata": {},
   "outputs": [],
   "source": [
    "#Only including the 8 notetype categories of interest \n",
    "merge6=merge5[(merge5.CATEGORY=='Discharge summary') | (merge5.CATEGORY=='Nursing') | \n",
    "                         (merge5.CATEGORY=='Physician ') | (merge5.CATEGORY=='General') | \n",
    "                        (merge5.CATEGORY=='Consult') | (merge5.CATEGORY=='Respiratory ') |\n",
    "                        (merge5.CATEGORY=='Rehab Services') | (merge5.CATEGORY=='Nutrition')]"
   ]
  },
  {
   "cell_type": "code",
   "execution_count": null,
   "metadata": {},
   "outputs": [],
   "source": [
    "#Important: This deletes note entries that are duplicates of each other or very similar due to minor text updates (i.e. same note type & CGID)\n",
    "# CK: this may be a mistake.\n",
    "all_patients=merge6.drop_duplicates(subset=['SUBJECT_ID','ADMITTIME', 'DIAGNOSIS', 'CATEGORY', 'DESCRIPTION', 'CGID'], keep='last')"
   ]
  },
  {
   "cell_type": "code",
   "execution_count": null,
   "metadata": {},
   "outputs": [],
   "source": [
    "#Shows all the possible discharge locations \n",
    "all_patients.DISCHARGE_LOCATION.unique()"
   ]
  },
  {
   "cell_type": "code",
   "execution_count": null,
   "metadata": {},
   "outputs": [],
   "source": [
    "#Death or Hospice as outcome\n",
    "def mortality_outcome(string): \n",
    "    if string=='DEAD/EXPIRED': return 1\n",
    "    elif string=='HOSPICE-HOME': return 1\n",
    "    elif string=='HOSPICE-MEDICAL FACILITY': return 1\n",
    "    else: return 0\n",
    "all_patients['DC_TO_DEATH_HOSPICE']=all_patients.DISCHARGE_LOCATION.map(lambda x: mortality_outcome(x))"
   ]
  },
  {
   "cell_type": "code",
   "execution_count": null,
   "metadata": {},
   "outputs": [],
   "source": []
  },
  {
   "cell_type": "code",
   "execution_count": null,
   "metadata": {},
   "outputs": [],
   "source": [
    "#Cleaning of text\n",
    "all_patients['TEXT']=all_patients.TEXT.map(lambda x: x.replace('\\n', ' '))"
   ]
  },
  {
   "cell_type": "code",
   "execution_count": null,
   "metadata": {},
   "outputs": [],
   "source": [
    "#LOS as outcome\n",
    "all_patients['LENGTH_OF_STAY']=(pd.to_datetime(all_patients['DISCHTIME']).dt.date-pd.to_datetime(all_patients['ADMITTIME']).dt.date)"
   ]
  },
  {
   "cell_type": "code",
   "execution_count": null,
   "metadata": {},
   "outputs": [],
   "source": [
    "#Final counts of notes in each category\n",
    "all_patients.CATEGORY.value_counts()"
   ]
  },
  {
   "cell_type": "code",
   "execution_count": null,
   "metadata": {},
   "outputs": [],
   "source": [
    "all_patients['days_until_mechvent']=all_patients.mv_start_date-all_patients.date_of_admission\n",
    "all_patients['days_until_dialysis']=all_patients.dialysis_start_date-all_patients.date_of_admission\n",
    "all_patients['days_until_pressors']=all_patients.pressors_start_date-all_patients.date_of_admission\n",
    "all_patients['days_until_trach']=all_patients.trach_start_date-all_patients.date_of_admission"
   ]
  },
  {
   "cell_type": "code",
   "execution_count": null,
   "metadata": {},
   "outputs": [],
   "source": [
    "all_patients.columns.tolist()"
   ]
  },
  {
   "cell_type": "code",
   "execution_count": null,
   "metadata": {},
   "outputs": [],
   "source": []
  },
  {
   "cell_type": "code",
   "execution_count": null,
   "metadata": {},
   "outputs": [],
   "source": [
    "pmh=pd.read_csv('data/MIMIC_001_Elixhauser.csv')\n",
    "oasis=pd.read_csv('data/MIMIC_001_Oasis.csv')"
   ]
  },
  {
   "cell_type": "code",
   "execution_count": null,
   "metadata": {},
   "outputs": [],
   "source": [
    "pmh.head(5)"
   ]
  },
  {
   "cell_type": "code",
   "execution_count": null,
   "metadata": {},
   "outputs": [],
   "source": [
    "oasis.head(3)"
   ]
  },
  {
   "cell_type": "code",
   "execution_count": null,
   "metadata": {},
   "outputs": [],
   "source": [
    "fin_merge0=pd.merge(all_patients, pmh, on=['SUBJECT_ID', 'HADM_ID'], how='left')\n",
    "fin_merge1=pd.merge(fin_merge0, oasis, on=['SUBJECT_ID', 'HADM_ID'], how='left')"
   ]
  },
  {
   "cell_type": "code",
   "execution_count": null,
   "metadata": {
    "scrolled": true
   },
   "outputs": [],
   "source": [
    "print(merge1.columns.tolist())"
   ]
  },
  {
   "cell_type": "code",
   "execution_count": null,
   "metadata": {},
   "outputs": [],
   "source": [
    "def oasis_score(x):\n",
    "    pre_icu_score=0\n",
    "    age_score=0\n",
    "    gcs_score=0\n",
    "    hr_score=0\n",
    "    map_score=0\n",
    "    rr_score=0\n",
    "    temp_score=0\n",
    "    uop_score=0\n",
    "    mv_score=0\n",
    "    elect_score=0\n",
    "    \n",
    "    pre_icu_los=x['pre_icu_los']\n",
    "    if pre_icu_los < 1: pre_icu_score=0\n",
    "    elif pre_icu_los < 13: pre_icu_score=1\n",
    "    \n",
    "    age=x['AGE']\n",
    "    if age<24: age_score=0\n",
    "    elif age <=53: age_score=3\n",
    "    elif age <=77: age_score=6\n",
    "    elif age<=89: age_score=9\n",
    "    elif age >=90: age_score=7\n",
    "    \n",
    "    mingcs=x['GCS_min']\n",
    "    if mingcs<=7: gcs_score=10\n",
    "    elif mingcs<14: gcs_score=4\n",
    "    elif mingcs==14: gcs_score=3 \n",
    "        \n",
    "    hrmax=x['HR_max']\n",
    "    hrmin=x['HR_min']\n",
    "    if hrmax>125: hr_score=6\n",
    "    elif hrmin<33: hr_score=4\n",
    "    elif ((hrmax>=107) & (hrmax<=125)): hr_score=3\n",
    "    elif ((hrmax>=89) & (hrmax<=106)): hr_score=1\n",
    "        \n",
    "    mapmin=x['MAP_min']\n",
    "    mapmax=x['MAP_max']\n",
    "    if mapmin<20.65: map_score=4\n",
    "    elif mapmin<51: map_score=3\n",
    "    elif mapmax>143.44: map_score=3\n",
    "    elif ((mapmin>=51) & (mapmin<61.33)): map_score=2\n",
    "        \n",
    "    rrmin=x['RR_min']\n",
    "    rrmax=x['RR_max']\n",
    "    if rrmin < 6: rr_score=10\n",
    "    elif rrmax>44: rr_score=9\n",
    "    elif rrmax>30: rr_score=6\n",
    "    elif rrmax>22: rr_score=1\n",
    "    elif rrmin<13: rr_score=1\n",
    "        \n",
    "    tempmax=x['temp_max']\n",
    "    tempmin=x['temp_min']\n",
    "    if tempmax>39.88: temp_score=6\n",
    "    elif ((tempmin>=33.22) & (tempmin<35.93)): temp_score=4\n",
    "    elif ((tempmax>=33.22) & (tempmax<=35.93)): temp_score=4\n",
    "    elif tempmin<33.22: temp_score=3\n",
    "    elif ((tempmin>35.93) & (tempmin<=36.36)): temp_score=2\n",
    "    elif ((tempmax>=36.89) & (tempmax<=39.88)): temp_score=2\n",
    "    \n",
    "    uop=x['total_uop']\n",
    "    if uop<671.09: uop_score=10\n",
    "    elif uop>6896.8: uop_score=8\n",
    "    elif ((uop>=671.09) & (uop<1426.99)): uop_score=5\n",
    "    elif ((uop>1427.00) & (uop<=2544.14)): uop_score=1\n",
    "    \n",
    "    mv=x['Mech_Vent']\n",
    "    if mv==1: mv_score=9\n",
    "    \n",
    "    elect=x['elective_adm']\n",
    "    if elect!=1: elect_score=6\n",
    "    \n",
    "    return pre_icu_score + age_score + gcs_score + hr_score + map_score + rr_score + temp_score + uop_score + mv_score + elect_score"
   ]
  },
  {
   "cell_type": "code",
   "execution_count": null,
   "metadata": {},
   "outputs": [],
   "source": [
    "fin_merge1['OASIS_score']=fin_merge1.apply(oasis_score, axis=1)"
   ]
  },
  {
   "cell_type": "code",
   "execution_count": null,
   "metadata": {},
   "outputs": [],
   "source": [
    "fin_merge1['OASIS_prob']=fin_merge1.OASIS_score.map(lambda x: 1 / (1 + math.exp((-(-6.1746 + 0.1275*(x))))))"
   ]
  },
  {
   "cell_type": "code",
   "execution_count": null,
   "metadata": {},
   "outputs": [],
   "source": []
  },
  {
   "cell_type": "code",
   "execution_count": null,
   "metadata": {},
   "outputs": [],
   "source": [
    "fin_merge1.to_csv('data/MIMIC_001_merge_patients_4.20.csv', index=False)"
   ]
  },
  {
   "cell_type": "code",
   "execution_count": null,
   "metadata": {},
   "outputs": [],
   "source": [
    "fin_merge1.reset_index(drop = True).to_feather('data/02_merge_patients.feather')"
   ]
  },
  {
   "cell_type": "code",
   "execution_count": null,
   "metadata": {},
   "outputs": [],
   "source": []
  }
 ],
 "metadata": {
  "colab": {
   "authorship_tag": "ABX9TyMvLib6eAZojVgTuuMLAZ1a",
   "collapsed_sections": [],
   "name": "MIMIC Notes Demo-Chris.ipynb",
   "provenance": [],
   "toc_visible": true
  },
  "kernelspec": {
   "display_name": "Python 3 (ipykernel)",
   "language": "python",
   "name": "python3"
  },
  "language_info": {
   "codemirror_mode": {
    "name": "ipython",
    "version": 3
   },
   "file_extension": ".py",
   "mimetype": "text/x-python",
   "name": "python",
   "nbconvert_exporter": "python",
   "pygments_lexer": "ipython3",
   "version": "3.8.12"
  }
 },
 "nbformat": 4,
 "nbformat_minor": 4
}
