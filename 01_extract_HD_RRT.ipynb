{
 "cells": [
  {
   "cell_type": "code",
   "execution_count": null,
   "metadata": {},
   "outputs": [],
   "source": [
    "import time, os\n",
    "#from dask import dataframe as dd\n",
    "import pandas as pd\n",
    "import multiprocessing\n",
    "import numpy as np"
   ]
  },
  {
   "cell_type": "code",
   "execution_count": null,
   "metadata": {},
   "outputs": [],
   "source": [
    "%%time\n",
    "# Takes 2 minutes with Dask.\n",
    "\n",
    "import dask.dataframe as dd\n",
    "\n",
    "# This file is 1.4GB\n",
    "# Created in 01_extract_outcomes.ipynb\n",
    "orig_df = dd.read_csv(\"data/MIMIC_001_chartevents.csv\",\n",
    "                      dtype = {'ICUSTAY_ID': 'UInt64',\n",
    "                               'VALUE': 'object',\n",
    "                               'ERROR': 'UInt64',\n",
    "                               'STOPPED': 'object',\n",
    "                               'CGID': 'UInt64',\n",
    "                               'WARNING': 'UInt64'})\n",
    "#                      dtype = {'RESULTSTATUS': 'object',\n",
    "#                             'STOPPED': 'object', 'VALUE': 'object'},\n",
    "#                      assume_missing = True)\n",
    "orig_df.compute()"
   ]
  },
  {
   "cell_type": "code",
   "execution_count": null,
   "metadata": {},
   "outputs": [],
   "source": [
    "%%time\n",
    "\n",
    "# Takes a minute or two.\n",
    "len(orig_df[orig_df.Dialysis==1].HADM_ID.unique())"
   ]
  },
  {
   "cell_type": "code",
   "execution_count": null,
   "metadata": {},
   "outputs": [],
   "source": [
    "%%time\n",
    "\n",
    "# Takes a minute.\n",
    "len(orig_df[orig_df.ITEMID==226118].HADM_ID.unique())"
   ]
  },
  {
   "cell_type": "code",
   "execution_count": null,
   "metadata": {},
   "outputs": [],
   "source": [
    "#Finding outcomes of interest from D_ITEMS (dictionary)\n",
    "\n",
    "#d_items_file='M:/Raw_CSV/D_ITEMS.csv'\n",
    "d_items = pd.read_csv(\"data-raw/mimic/D_ITEMS.csv\")\n"
   ]
  },
  {
   "cell_type": "code",
   "execution_count": null,
   "metadata": {},
   "outputs": [],
   "source": []
  },
  {
   "cell_type": "code",
   "execution_count": null,
   "metadata": {},
   "outputs": [],
   "source": [
    "d_items.head(5)"
   ]
  },
  {
   "cell_type": "code",
   "execution_count": null,
   "metadata": {
    "scrolled": true
   },
   "outputs": [],
   "source": [
    "#Getting all the items under Category = Dialysis\n",
    "dialysis_items=d_items[d_items.CATEGORY=='Dialysis'].ITEMID.unique().tolist()\n",
    "print('by category: ', len(dialysis_items))\n",
    "\n",
    "additional_hd_items=[226118, 227357, 225725, 226499, 224154, 225810, 227639, 225183, 227438, 224191, 225806, \n",
    "           225807, 228004, 228005, 228006, 224144, 224145, 224149, 224150, 224151, 224152, 224153, \n",
    "           224404, 224406, 226457, 225959, 224135, 224139, 224146, 225323, 225740, 225776, 225951, \n",
    "           225952, 225953, 225954, 225956, 225958, 225961, 225963, 225965, 225976, 225977, 227124, \n",
    "           227290, 227638, 227640, 227753, 40788, 40907, 41063, 41147, 41307, 41460, 41620, 41711, \n",
    "           41791, 41792, 42562, 43829, 44037, 44188, 44526, 44527, 44584, 44591, 44698, 44927, 44954, \n",
    "           45157, 45268, 45352, 45353, 46012, 46013, 46172, \n",
    "           46173, 46250, 46262, 46292, 46293, 46311, 46389, 46574, 46681, 46720, 46769, 46773, \n",
    "            40386, 40425, 40426, 40507, 40613, 40624, 40690, 40745, 40789, 40881, 40910, 41016, \n",
    "            41034, 41069, 41112, 41250, 41374, 41417, 41500, 41527, 41623, 41635, 41713, \n",
    "            41750, 41829, 41842, 41897, 42289, 42388, 42464, 42524, 42536, 42868, 42928, \n",
    "            42972, 43016, 43052, 43098, 43115, 43687, 43941, 44027, 44085, 44193, 44199, \n",
    "            44216, 44286, 44567, 44843, 44845, 44857, 44901, 44943, 45479, 45828, 46230, \n",
    "            46232, 46394, 46464, 46712, 46713, 46715, 46741, \n",
    "            225441, 225802, 225803, 225805, 224270, 225809, 225955, 225436, \n",
    "                     225318, 225319, 225321, 225322, 225324]\n",
    "dialysis_items.extend(additional_hd_items)\n",
    "print('adding additional items:', len(dialysis_items))\n",
    "\n",
    "#Now brute forcing the ITEMIDs \n",
    "def find_hd_item(string): \n",
    "    items=['dialy', 'dialysis', 'tunneled', 'crrt', 'cvvh', 'scuf']\n",
    "    for i in items: \n",
    "        if i in string.lower(): return True \n",
    "d_items['Dialysis']=d_items.LABEL.map(lambda x: 1 if find_hd_item(str(x)) else 0)\n",
    "for i in d_items[d_items.Dialysis==1].ITEMID.unique().tolist(): \n",
    "    if i not in dialysis_items: dialysis_items.append(i)\n",
    "print('final count with word search:', len(dialysis_items))"
   ]
  },
  {
   "cell_type": "code",
   "execution_count": null,
   "metadata": {
    "scrolled": true
   },
   "outputs": [],
   "source": [
    "#Prior dialysis item code \n",
    "#dialysis ITEMIDs: https://github.com/MIT-LCP/mimic-code/blob/master/concepts/rrt.sql\n",
    "dialysis_items2=d_items[d_items.CATEGORY=='Dialysis'].ITEMID.unique().tolist()\n",
    "print(len(dialysis_items2))\n",
    "\n",
    "d_items.LABEL=d_items.LABEL.map(lambda x: str(x).lower())\n",
    "def find_item(string): \n",
    "    items=['dialy', 'dialysis', 'tunneled', 'crrt', 'cvvh', 'scuf']\n",
    "    for i in items: \n",
    "        if i in string: return True \n",
    "d_items['Dialysis']=d_items.LABEL.map(lambda x: 1 if find_item(x) else 0)\n",
    "for i in d_items[d_items.Dialysis==1].ITEMID.unique().tolist(): \n",
    "    if i not in dialysis_items2: dialysis_items2.append(i)\n",
    "print(len(dialysis_items2))"
   ]
  },
  {
   "cell_type": "code",
   "execution_count": null,
   "metadata": {},
   "outputs": [],
   "source": []
  },
  {
   "cell_type": "code",
   "execution_count": null,
   "metadata": {},
   "outputs": [],
   "source": [
    "#Function to find outcomes of interests only in CHARTEVENTS \n",
    "def find_item_id(integer, item_list): \n",
    "    if integer in item_list: return 1\n",
    "    else: return 0"
   ]
  },
  {
   "cell_type": "code",
   "execution_count": null,
   "metadata": {},
   "outputs": [],
   "source": [
    "%%time\n",
    "\n",
    "#input_events='M:/Raw_CSV/INPUTEVENTS_CV.csv'\n",
    "\n",
    "# 2.3GB, takes ~2.3 minutes.\n",
    "input_df = dd.read_csv(\"data-raw/mimic/INPUTEVENTS_CV.csv\",\n",
    "                       dtype={'ORIGINALRATEUOM': 'object',\n",
    "                              'RATEUOM': 'object',\n",
    "                              'ORIGINALSITE': 'object',\n",
    "                              'STOPPED': 'object'},\n",
    "                       assume_missing = True)\n",
    "input_df = input_df.compute()\n",
    "print(input_df.shape)\n",
    "input_df.head(5)"
   ]
  },
  {
   "cell_type": "code",
   "execution_count": null,
   "metadata": {},
   "outputs": [],
   "source": [
    "%%time\n",
    "\n",
    "# Slow - see if this can be sped up.\n",
    "input_df['Dialysis']=input_df.ITEMID.map(lambda x: find_item_id(int(x), dialysis_items))"
   ]
  },
  {
   "cell_type": "code",
   "execution_count": null,
   "metadata": {},
   "outputs": [],
   "source": [
    "input_final=input_df[input_df.Dialysis==1]\n",
    "print(input_final.shape)"
   ]
  },
  {
   "cell_type": "code",
   "execution_count": null,
   "metadata": {},
   "outputs": [],
   "source": [
    "#input_final.to_csv('M:/MIMIC_001_inputevents_hd.csv')\n",
    "input_final.to_csv('data/MIMIC_001_inputevents_hd.csv')"
   ]
  },
  {
   "cell_type": "code",
   "execution_count": null,
   "metadata": {},
   "outputs": [],
   "source": []
  },
  {
   "cell_type": "code",
   "execution_count": null,
   "metadata": {},
   "outputs": [],
   "source": [
    "%%time\n",
    "\n",
    "#chart_events='M:/Raw_CSV/CHARTEVENTS.csv'\n",
    "\n",
    "# This takes a long time, file is 33GB.\n",
    "# 6.75 mins on SSD.\n",
    "df = dd.read_csv('data-raw/mimic/CHARTEVENTS.csv',\n",
    "                 usecols = ['SUBJECT_ID', 'HADM_ID', 'CHARTTIME', 'ITEMID'],\n",
    "                 # CK: do we really want this line below? consider removing.\n",
    "                 assume_missing = True)\n",
    "df = df.compute() # for dask version\n",
    "df.head(5)"
   ]
  },
  {
   "cell_type": "code",
   "execution_count": null,
   "metadata": {},
   "outputs": [],
   "source": [
    "%%time\n",
    "\n",
    "# Very slow - try to speed up.\n",
    "df['Dialysis']=df.ITEMID.map(lambda x: find_item_id(int(x), dialysis_items))"
   ]
  },
  {
   "cell_type": "code",
   "execution_count": null,
   "metadata": {},
   "outputs": [],
   "source": [
    "chart_final=df[df.Dialysis==1]\n",
    "print(chart_final.shape)\n",
    "#chart_final.to_csv('M:/MIMIC_001_chartevents_hd.csv')\n",
    "chart_final.to_csv('data/MIMIC_001_chartevents_hd.csv')"
   ]
  },
  {
   "cell_type": "code",
   "execution_count": null,
   "metadata": {},
   "outputs": [],
   "source": [
    "%%time\n",
    "# out_events='M:/Raw_CSV/OUTPUTEVENTS.csv'\n",
    "out_df = pd.read_csv(\"data-raw/mimic/OUTPUTEVENTS.csv\")\n",
    "out_df.head(5)"
   ]
  },
  {
   "cell_type": "code",
   "execution_count": null,
   "metadata": {},
   "outputs": [],
   "source": [
    "\n",
    "out_df['Dialysis']=out_df.ITEMID.map(lambda x: find_item_id(int(x), dialysis_items))"
   ]
  },
  {
   "cell_type": "code",
   "execution_count": null,
   "metadata": {},
   "outputs": [],
   "source": [
    "out_final=out_df[out_df.Dialysis==1]\n",
    "print(out_final.shape)\n",
    "#out_final.to_csv('M:/MIMIC_001_outputevents_hd.csv')\n",
    "out_final.to_csv('data/MIMIC_001_outputevents_hd.csv')"
   ]
  },
  {
   "cell_type": "code",
   "execution_count": null,
   "metadata": {},
   "outputs": [],
   "source": [
    "%%time\n",
    "\n",
    "# proc_events='M:/Raw_CSV/PROCEDUREEVENTS_MV.csv'\n",
    "proc_df = pd.read_csv(\"data-raw/mimic/PROCEDUREEVENTS_MV.csv\")\n",
    "proc_df.head(5)"
   ]
  },
  {
   "cell_type": "code",
   "execution_count": null,
   "metadata": {},
   "outputs": [],
   "source": [
    "proc_df['Dialysis']=proc_df.ITEMID.map(lambda x: find_item_id(int(x), dialysis_items))"
   ]
  },
  {
   "cell_type": "code",
   "execution_count": null,
   "metadata": {},
   "outputs": [],
   "source": [
    "proc_final=proc_df[proc_df.Dialysis==1]\n",
    "print(proc_final.shape)\n",
    "#proc_final.to_csv('M:/MIMIC_001_procevents_hd.csv')\n",
    "proc_final.to_csv('data/MIMIC_001_procevents_hd.csv')"
   ]
  },
  {
   "cell_type": "code",
   "execution_count": null,
   "metadata": {},
   "outputs": [],
   "source": [
    "%%time\n",
    "\n",
    "# dat_events='M:/Raw_CSV/DATETIMEEVENTS.csv'\n",
    "\n",
    "dat_df = pd.read_csv(\"data-raw/mimic/DATETIMEEVENTS.csv\")\n",
    "\n",
    "dat_df.head(5)"
   ]
  },
  {
   "cell_type": "code",
   "execution_count": null,
   "metadata": {},
   "outputs": [],
   "source": []
  },
  {
   "cell_type": "code",
   "execution_count": null,
   "metadata": {},
   "outputs": [],
   "source": [
    "dat_df['Dialysis']=dat_df.ITEMID.map(lambda x: find_item_id(int(x), dialysis_items))"
   ]
  },
  {
   "cell_type": "code",
   "execution_count": null,
   "metadata": {},
   "outputs": [],
   "source": [
    "dat_final=dat_df[dat_df.Dialysis==1]\n",
    "print(dat_final.shape)\n",
    "#dat_final.to_csv('M:/MIMIC_001_dataevents_hd.csv')\n",
    "dat_final.to_csv('data/MIMIC_001_dataevents_hd.csv')"
   ]
  },
  {
   "cell_type": "code",
   "execution_count": null,
   "metadata": {},
   "outputs": [],
   "source": [
    "len(input_final.HADM_ID.unique())"
   ]
  },
  {
   "cell_type": "markdown",
   "metadata": {},
   "source": [
    "CK: these last two chunks appear to be old and the dataframe is not being used, so it seems to be ok that it's generating an error."
   ]
  },
  {
   "cell_type": "code",
   "execution_count": null,
   "metadata": {},
   "outputs": [],
   "source": [
    "df_final=df[(df.Mech_Vent==1) | (df.Dialysis==1) |(df.Trach==1)]"
   ]
  },
  {
   "cell_type": "code",
   "execution_count": null,
   "metadata": {},
   "outputs": [],
   "source": [
    "df_final.shape"
   ]
  },
  {
   "cell_type": "code",
   "execution_count": null,
   "metadata": {},
   "outputs": [],
   "source": [
    "df.columns"
   ]
  },
  {
   "cell_type": "code",
   "execution_count": null,
   "metadata": {},
   "outputs": [],
   "source": []
  }
 ],
 "metadata": {
  "kernelspec": {
   "display_name": "Python 3 (ipykernel)",
   "language": "python",
   "name": "python3"
  },
  "language_info": {
   "codemirror_mode": {
    "name": "ipython",
    "version": 3
   },
   "file_extension": ".py",
   "mimetype": "text/x-python",
   "name": "python",
   "nbconvert_exporter": "python",
   "pygments_lexer": "ipython3",
   "version": "3.8.12"
  }
 },
 "nbformat": 4,
 "nbformat_minor": 4
}
