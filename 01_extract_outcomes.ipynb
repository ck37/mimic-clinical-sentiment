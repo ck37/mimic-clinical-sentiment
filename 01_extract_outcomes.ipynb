{
 "cells": [
  {
   "cell_type": "code",
   "execution_count": null,
   "metadata": {},
   "outputs": [],
   "source": [
    "#VPN --> Connect to Server \n",
    "#Remote Desktop --> Sypder --> type to change to M: drive\n",
    "#Type in jupyter notebook in terminal \n",
    "#Open same notebook"
   ]
  },
  {
   "cell_type": "code",
   "execution_count": null,
   "metadata": {},
   "outputs": [],
   "source": [
    "import time, os\n",
    "import pandas as pd\n",
    "import multiprocessing\n",
    "import numpy as np"
   ]
  },
  {
   "cell_type": "code",
   "execution_count": null,
   "metadata": {},
   "outputs": [],
   "source": [
    "#Finding outcomes of interest from D_ITEMS (dictionary)\n",
    "\n",
    "d_items = pd.read_csv('data-raw/mimic/D_ITEMS.csv')\n"
   ]
  },
  {
   "cell_type": "code",
   "execution_count": null,
   "metadata": {
    "scrolled": true
   },
   "outputs": [],
   "source": [
    "#Create function to find dialysis events \n",
    "\n",
    "#dialysis ITEMIDs: https://github.com/MIT-LCP/mimic-code/blob/master/concepts/rrt.sql\n",
    "dialysis_items=d_items[d_items.CATEGORY=='Dialysis'].ITEMID.unique().tolist()\n",
    "print(len(dialysis_items))\n",
    "d_items.LABEL=d_items.LABEL.map(lambda x: str(x).lower())\n",
    "def find_item(string): \n",
    "    items=['dialy', 'dialysis', 'tunneled', 'crrt', 'cvvh', 'scuf']\n",
    "    for i in items: \n",
    "        if i in string: return True \n",
    "d_items['Dialysis']=d_items.LABEL.map(lambda x: 1 if find_item(x) else 0)\n",
    "for i in d_items[d_items.Dialysis==1].ITEMID.unique().tolist(): \n",
    "    if i not in dialysis_items: dialysis_items.append(i)\n",
    "print(len(dialysis_items))"
   ]
  },
  {
   "cell_type": "code",
   "execution_count": null,
   "metadata": {},
   "outputs": [],
   "source": [
    "#Check\n",
    "30044 in d_items.ITEMID.unique()"
   ]
  },
  {
   "cell_type": "code",
   "execution_count": null,
   "metadata": {},
   "outputs": [],
   "source": [
    "#Create function to find pressor events \n",
    "\n",
    "#pressors ITEMIDs \n",
    "#https://github.com/MIT-LCP/mimic-code/blob/master/concepts/durations/vasopressin_dose.sql\n",
    "\n",
    "pressors_items=[30044, 30119, 30309, 30051, 30047, 30120,  30043, 30307, 30127, 30128]\n",
    "print(len(pressors_items))\n",
    "d_items.LABEL=d_items.LABEL.map(lambda x: str(x).lower())\n",
    "def find_item(string): \n",
    "    items=['neo ', 'levophed', 'vasopressin', 'epinephrin']\n",
    "    for i in items: \n",
    "        if i in string: return True \n",
    "d_items['Pressors']=d_items.LABEL.map(lambda x: 1 if find_item(x) else 0)\n",
    "for i in d_items[d_items.Pressors==1].ITEMID.unique().tolist(): \n",
    "    if i not in pressors_items: pressors_items.append(i)\n",
    "print(len(pressors_items))\n",
    "not_wanted=[6016, 8339]\n",
    "pressors_items=[i for i in pressors_items if i not in not_wanted]\n",
    "print(len(pressors_items))"
   ]
  },
  {
   "cell_type": "code",
   "execution_count": null,
   "metadata": {},
   "outputs": [],
   "source": [
    "#Create function to find mechanical ventilation events \n",
    "\n",
    "#MV: https://github.com/MIT-LCP/mimic-code/blob/master/concepts/durations/ventilation_classification.sql\n",
    "MV_items=[720, 223849, 223848, 445, 448, 449, 450, 1340, 1486, 1600, 224687, \n",
    "          639, 654, 681, 682, 683, 684,224685,224684,224686, \n",
    "          218,436,535,444,224697,224695,224696,224746,224747,\n",
    "          221,1,1211,1655,2000,226873,224738,224419,224750,227187, \n",
    "          543,  5865,5866,224707,224709,224705,224706,\n",
    "          60,437,505,506,686,220339,224700, 3459, \n",
    "          501,502,503,224702, 223,667,668,669,670,671,672, 224701]\n",
    "print(len(MV_items))\n",
    "d_items.LABEL=d_items.LABEL.map(lambda x: str(x).lower())\n",
    "def find_item(string): \n",
    "    items=['ett']\n",
    "    for i in items: \n",
    "        if i in string: return True \n",
    "d_items['ETT']=d_items.LABEL.map(lambda x: 1 if find_item(x) else 0)\n",
    "for i in d_items[d_items.ETT==1].ITEMID.unique().tolist(): \n",
    "    if i not in MV_items: \n",
    "        MV_items.append(i)\n",
    "print(len(MV_items))\n",
    "not_wanted=[45943, 80020, 80276, 225754, 224755, 224837, 224838, 227980, 220120, 223867]\n",
    "MV_items=[i for i in MV_items if i not in not_wanted]\n",
    "print(len(MV_items))"
   ]
  },
  {
   "cell_type": "code",
   "execution_count": null,
   "metadata": {},
   "outputs": [],
   "source": [
    "#Create function to find trach events \n",
    "\n",
    "#Trach \n",
    "trach_items=[]\n",
    "d_items.LABEL=d_items.LABEL.map(lambda x: str(x).lower())\n",
    "def find_item(string): \n",
    "    items=['trach']\n",
    "    for i in items: \n",
    "        if i in string: return True \n",
    "d_items['Trach']=d_items.LABEL.map(lambda x: 1 if find_item(x) else 0)\n",
    "for i in d_items[d_items.Trach==1].ITEMID.unique().tolist(): \n",
    "    if i not in trach_items: trach_items.append(i)\n",
    "print(len(trach_items))\n",
    "not_wanted=[80147, 4588]\n",
    "trach_items=[i for i in trach_items if i not in not_wanted]\n",
    "print(len(trach_items))"
   ]
  },
  {
   "cell_type": "code",
   "execution_count": null,
   "metadata": {},
   "outputs": [],
   "source": []
  },
  {
   "cell_type": "code",
   "execution_count": null,
   "metadata": {},
   "outputs": [],
   "source": [
    "#Function to find outcomes of interests \n",
    "def find_item_id(integer, item_list): \n",
    "    if integer in item_list: return 1\n",
    "    else: return 0"
   ]
  },
  {
   "cell_type": "code",
   "execution_count": null,
   "metadata": {},
   "outputs": [],
   "source": [
    "%%time # 20 seconds.\n",
    "\n",
    "# Read InputEvents.CSV, which will find pressor events \n",
    "\n",
    "input_df=pd.read_csv('data-raw/mimic/INPUTEVENTS_CV.csv')\n",
    "#df=pd.read_csv('CHARTEVENTS.csv', usecols=['SUBJECT_ID', 'HADM_ID', 'ITEMID'], assume_missing=True)\n",
    "\n",
    "print(input_df.shape)\n",
    "input_df.head(5)"
   ]
  },
  {
   "cell_type": "code",
   "execution_count": null,
   "metadata": {},
   "outputs": [],
   "source": [
    "input_df['Pressors']=input_df.ITEMID.map(lambda x: find_item_id(int(x), pressors_items))"
   ]
  },
  {
   "cell_type": "code",
   "execution_count": null,
   "metadata": {},
   "outputs": [],
   "source": [
    "input_final=input_df[input_df.Pressors==1]\n",
    "print(input_final.shape)"
   ]
  },
  {
   "cell_type": "code",
   "execution_count": null,
   "metadata": {},
   "outputs": [],
   "source": [
    "input_final.to_csv('data/MIMIC_001_inputevents.csv')"
   ]
  },
  {
   "cell_type": "code",
   "execution_count": null,
   "metadata": {},
   "outputs": [],
   "source": []
  },
  {
   "cell_type": "code",
   "execution_count": null,
   "metadata": {},
   "outputs": [],
   "source": [
    "%%time\n",
    "# Read ChartEvents.CSV (33 GB), which will have all other outcome events \n",
    "\n",
    "cache_file = \"data/cache/chart-events.feather\"\n",
    "if not os.path.exists(cache_file):\n",
    "    # This takes X seconds to load.\n",
    "    df = pd.read_csv('data-raw/mimic/CHARTEVENTS.csv')\n",
    "    df.to_feather(cache_file)\n",
    "else:\n",
    "    # Takes Y seconds to load - nice speedup.\n",
    "    df = pd.read_feather(cache_file)\n",
    "\n",
    "#df=pd.read_csv('CHARTEVENTS.csv', usecols=['SUBJECT_ID', 'HADM_ID', 'ITEMID'], assume_missing=True)\n",
    "\n",
    "df.head(5)"
   ]
  },
  {
   "cell_type": "code",
   "execution_count": null,
   "metadata": {},
   "outputs": [],
   "source": [
    "df['Mech_Vent']=df.ITEMID.map(lambda x: find_item_id(int(x), MV_items))"
   ]
  },
  {
   "cell_type": "code",
   "execution_count": null,
   "metadata": {},
   "outputs": [],
   "source": [
    "df['Dialysis']=df.ITEMID.map(lambda x: find_item_id(int(x), dialysis_items))"
   ]
  },
  {
   "cell_type": "code",
   "execution_count": null,
   "metadata": {},
   "outputs": [],
   "source": [
    "df['Trach']=df.ITEMID.map(lambda x: find_item_id(int(x), trach_items))"
   ]
  },
  {
   "cell_type": "code",
   "execution_count": null,
   "metadata": {},
   "outputs": [],
   "source": [
    "df_final=df[(df.Mech_Vent==1) | (df.Dialysis==1) |(df.Trach==1)]"
   ]
  },
  {
   "cell_type": "code",
   "execution_count": null,
   "metadata": {},
   "outputs": [],
   "source": [
    "df_final.shape"
   ]
  },
  {
   "cell_type": "code",
   "execution_count": null,
   "metadata": {},
   "outputs": [],
   "source": [
    "df_final.to_csv('data/MIMIC_001_chartevents.csv')"
   ]
  },
  {
   "cell_type": "code",
   "execution_count": null,
   "metadata": {},
   "outputs": [],
   "source": []
  },
  {
   "cell_type": "code",
   "execution_count": null,
   "metadata": {},
   "outputs": [],
   "source": [
    "df_final.head(5)"
   ]
  },
  {
   "cell_type": "code",
   "execution_count": null,
   "metadata": {},
   "outputs": [],
   "source": []
  }
 ],
 "metadata": {
  "kernelspec": {
   "display_name": "Python 3 (ipykernel)",
   "language": "python",
   "name": "python3"
  },
  "language_info": {
   "codemirror_mode": {
    "name": "ipython",
    "version": 3
   },
   "file_extension": ".py",
   "mimetype": "text/x-python",
   "name": "python",
   "nbconvert_exporter": "python",
   "pygments_lexer": "ipython3",
   "version": "3.8.12"
  }
 },
 "nbformat": 4,
 "nbformat_minor": 4
}
