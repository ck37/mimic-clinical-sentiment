{
 "cells": [
  {
   "cell_type": "code",
   "execution_count": null,
   "metadata": {},
   "outputs": [],
   "source": [
    "#https://github.com/MIT-LCP/mimic-code/blob/master/concepts/severityscores/oasis.sql"
   ]
  },
  {
   "cell_type": "code",
   "execution_count": null,
   "metadata": {},
   "outputs": [],
   "source": [
    "#Leaves out age and MV (which is already in chart_events)"
   ]
  },
  {
   "cell_type": "code",
   "execution_count": null,
   "metadata": {},
   "outputs": [],
   "source": [
    "import os, re\n",
    "import pandas as pd\n",
    "import numpy as np\n",
    "import time\n",
    "from datetime import datetime"
   ]
  },
  {
   "cell_type": "code",
   "execution_count": null,
   "metadata": {},
   "outputs": [],
   "source": [
    "#Comparison with what we have \n",
    "#item_file='M:/Raw_CSV/D_ITEMS.csv'\n",
    "item_df = pd.read_csv(\"data-raw/mimic/D_ITEMS.csv\")"
   ]
  },
  {
   "cell_type": "code",
   "execution_count": null,
   "metadata": {},
   "outputs": [],
   "source": [
    "%%time\n",
    "\n",
    "#import dask.dataframe as dd\n",
    "\n",
    "cache_file = \"data/cache/chartevents.csv\"\n",
    "if not os.path.exists(cache_file):\n",
    "    # dask version is slower for some reason.\n",
    "    #orig_df = dd.read_csv(\"data-raw/mimic/CHARTEVENTS.csv\",\n",
    "    # Takes about 22 mins to import with pandas.\n",
    "    orig_df = pd.read_csv(\"data-raw/mimic/CHARTEVENTS.csv\",\n",
    "                 #nrows = 1000,\n",
    "                 dtype = {'ROW_ID': 'UInt64',\n",
    "                          'SUBJECT_ID': 'UInt64',\n",
    "                          'HADM_ID': 'UInt64',\n",
    "                          'ICUSTAYID': 'UInt64',\n",
    "                          'ICUSTAY_ID':'UInt64', # This one needed, not sure about above row.\n",
    "                          'ITEMID': 'UInt64',\n",
    "                          'CGID': 'UInt64', \n",
    "                          'RESULTSTATUS': 'object',\n",
    "                          'STOPPED': 'object',\n",
    "                          'ERROR': 'UInt64',\n",
    "                          'WARNING': 'UInt64',\n",
    "                          'VALUE': 'object'})#,\n",
    "                      #assume_missing = True)\n",
    "    #orig_df = orig_df.compute()\n",
    "    orig_df.to_feather(cache_file)\n",
    "else:\n",
    "    # Takes 2 mins to load - huge speedup.\n",
    "    orig_df = pd.read_feather(cache_file)"
   ]
  },
  {
   "cell_type": "code",
   "execution_count": null,
   "metadata": {},
   "outputs": [],
   "source": [
    "#Comparison with what we have \n",
    "\"\"\"\n",
    "chart_file='M:/MIMIC_001_chartevents.csv'\n",
    "pwd=os.getcwd()\n",
    "os.chdir(os.path.dirname(chart_file))\n",
    "chart_pts=pd.read_csv(os.path.basename(chart_file))\n",
    "os.chdir(pwd)\n",
    "\"\"\"\n",
    "# Created by MIMIC_001_extract_outcomes.ipynb\n",
    "chart_pts = pd.read_csv(\"data/MIMIC_001_chartevents.csv\",\n",
    "                       low_memory = False)"
   ]
  },
  {
   "cell_type": "code",
   "execution_count": null,
   "metadata": {},
   "outputs": [],
   "source": [
    "\"\"\"\n",
    "icu_file='M:/RAW_CSV/ICUSTAYS.csv'\n",
    "pwd=os.getcwd()\n",
    "os.chdir(os.path.dirname(icu_file))\n",
    "icu_stay=pd.read_csv(os.path.basename(icu_file))\n",
    "os.chdir(pwd)\n",
    "\"\"\"\n",
    "icu_stay = pd.read_csv(\"data-raw/mimic/ICUSTAYS.csv\",\n",
    "             usecols = ['SUBJECT_ID', 'HADM_ID', 'INTIME', 'OUTTIME', 'LOS'])"
   ]
  },
  {
   "cell_type": "code",
   "execution_count": null,
   "metadata": {},
   "outputs": [],
   "source": [
    "#icu_stay.head(5)\n",
    "#icu_stay=icu_stay[['SUBJECT_ID', 'HADM_ID', 'INTIME', 'OUTTIME', 'LOS']]"
   ]
  },
  {
   "cell_type": "code",
   "execution_count": null,
   "metadata": {},
   "outputs": [],
   "source": [
    "#Comparison with what we have \n",
    "\"\"\"\n",
    "df_file='M:/Raw_CSV/OUTPUTEVENTS.csv'\n",
    "pwd=os.getcwd()\n",
    "os.chdir(os.path.dirname(df_file))\n",
    "out_df=pd.read_csv(os.path.basename(df_file))\n",
    "os.chdir(pwd)\n",
    "\"\"\"\n",
    "out_df = pd.read_csv(\"data-raw/mimic/OUTPUTEVENTS.csv\")"
   ]
  },
  {
   "cell_type": "code",
   "execution_count": null,
   "metadata": {},
   "outputs": [],
   "source": [
    "#Comparison with what we have \n",
    "\"\"\"\n",
    "admit_file='M:/RAW_CSV/ADMISSIONS.csv'\n",
    "pwd=os.getcwd()\n",
    "os.chdir(os.path.dirname(admit_file))\n",
    "admit0=pd.read_csv(os.path.basename(admit_file))\n",
    "os.chdir(pwd)\n",
    "\"\"\"\n",
    "admit0 = pd.read_csv(\"data-raw/mimic/ADMISSIONS.csv\")"
   ]
  },
  {
   "cell_type": "code",
   "execution_count": null,
   "metadata": {},
   "outputs": [],
   "source": [
    "admit0['elective_adm'] = admit0.ADMISSION_TYPE.map(lambda x: 1 if x=='ELECTIVE' else 0)\n",
    "admit_df = admit0[['SUBJECT_ID', 'HADM_ID', 'ADMITTIME', 'elective_adm']]\n",
    "admit_df.head(5)"
   ]
  },
  {
   "cell_type": "code",
   "execution_count": null,
   "metadata": {},
   "outputs": [],
   "source": [
    "item_df.LABEL.unique().tolist()[:5]"
   ]
  },
  {
   "cell_type": "code",
   "execution_count": null,
   "metadata": {},
   "outputs": [],
   "source": [
    "item_df.LABEL=item_df.LABEL.map(lambda x: str(x).lower())\n",
    "def find_item(string): \n",
    "    if 'gcs total' in string: return 'GCS' \n",
    "    elif string=='heart rate': return 'HR'\n",
    "    elif string=='map': return 'MAP'\n",
    "    elif string=='aterial bp mean': return 'MAP'\n",
    "    elif string=='nbp mean': return 'MAP'\n",
    "    elif string=='manual bp mean(calc)': return 'MAP'\n",
    "    elif '[temperature]' in string: return 'temp'\n",
    "    elif '[temp]' in string: return 'temp'\n",
    "    elif string=='respiratory rate': return 'RR'\n",
    "    elif 'urine out' in string: return 'uop'\n",
    "    else: return 0\n",
    "    \n",
    "item_df['Oasis'] = item_df.LABEL.map(lambda x: find_item(x))\n",
    "oasis_df = item_df[item_df.Oasis!=0]\n",
    "oasis_items = oasis_df[['ITEMID', 'LABEL', 'Oasis']].ITEMID.tolist()\n",
    "print(len(oasis_items))"
   ]
  },
  {
   "cell_type": "code",
   "execution_count": null,
   "metadata": {},
   "outputs": [],
   "source": [
    "def find_oasis_item(integer, item_list): \n",
    "    if integer in item_list: return 1\n",
    "    else: return 0"
   ]
  },
  {
   "cell_type": "code",
   "execution_count": null,
   "metadata": {},
   "outputs": [],
   "source": [
    "%%time\n",
    "# This is very slow.\n",
    "orig_df['oasis_ITEM'] = orig_df.ITEMID.map(lambda x: find_oasis_item(int(x), oasis_items))"
   ]
  },
  {
   "cell_type": "code",
   "execution_count": null,
   "metadata": {},
   "outputs": [],
   "source": [
    "chart_df0 = orig_df[orig_df.oasis_ITEM == 1]\n",
    "chart_df = chart_df0[['SUBJECT_ID', 'HADM_ID', 'ITEMID', 'VALUE']]"
   ]
  },
  {
   "cell_type": "code",
   "execution_count": null,
   "metadata": {},
   "outputs": [],
   "source": [
    "chart_df.head(3)"
   ]
  },
  {
   "cell_type": "code",
   "execution_count": null,
   "metadata": {},
   "outputs": [],
   "source": [
    "##insert merged dfs here"
   ]
  },
  {
   "cell_type": "code",
   "execution_count": null,
   "metadata": {},
   "outputs": [],
   "source": [
    "chart_events = pd.merge(chart_df, oasis_df[['ITEMID', 'Oasis']], on='ITEMID', how='left')\n",
    "chart_events['Oasis_Value'] = pd.to_numeric(chart_events['VALUE'], errors='coerce')"
   ]
  },
  {
   "cell_type": "code",
   "execution_count": null,
   "metadata": {},
   "outputs": [],
   "source": [
    "uop_df0 = out_df[['SUBJECT_ID', 'HADM_ID', 'ITEMID', 'VALUE']]\n",
    "uop_df0['oasis_ITEM'] = uop_df0.ITEMID.map(lambda x: find_oasis_item(int(x), oasis_items))\n",
    "uop_df = uop_df0[uop_df0.oasis_ITEM == 1]\n",
    "uop_events = pd.merge(uop_df, oasis_df[['ITEMID', 'Oasis']], on='ITEMID', how='left')\n",
    "uop_events['Oasis_Value'] = pd.to_numeric(uop_events['VALUE'], errors='coerce')\n",
    "print(uop_df.shape)\n",
    "uop_events.head(5)\n",
    "uop_final = uop_events.groupby(['SUBJECT_ID', 'HADM_ID'], as_index=False)['Oasis_Value'].sum()\n",
    "uop_final['total_uop'] = uop_final['Oasis_Value']\n",
    "uop_final.pop('Oasis_Value')\n",
    "print(uop_final.shape)"
   ]
  },
  {
   "cell_type": "code",
   "execution_count": null,
   "metadata": {},
   "outputs": [],
   "source": [
    "chart_events.info()"
   ]
  },
  {
   "cell_type": "code",
   "execution_count": null,
   "metadata": {},
   "outputs": [],
   "source": [
    "# Need to convert types to allow the merge to succeed.\n",
    "uop_final.HADM_ID = uop_final.HADM_ID.astype('UInt64')"
   ]
  },
  {
   "cell_type": "code",
   "execution_count": null,
   "metadata": {},
   "outputs": [],
   "source": [
    "# TODO: fix.\n",
    "all_events = pd.merge(chart_events, uop_final, on=['SUBJECT_ID', 'HADM_ID'], how='left')\n",
    "all_events.head(3)"
   ]
  },
  {
   "cell_type": "code",
   "execution_count": null,
   "metadata": {},
   "outputs": [],
   "source": [
    "icu_admit = pd.merge(icu_stay, admit_df, on=['SUBJECT_ID', 'HADM_ID'], how='left')\n",
    "icu_admit['admit_date'] = pd.to_datetime(icu_admit.ADMITTIME).dt.date\n",
    "icu_admit['icu_admit'] = pd.to_datetime(icu_admit.INTIME).dt.date\n",
    "icu_admit['pre_icu_los_days'] = icu_admit['icu_admit']-icu_admit['admit_date']\n",
    "icu_admit['pre_icu_los'] = icu_admit['pre_icu_los_days'].map(lambda x: int(str(x)[0]) if str(x)[0].isnumeric() else 0 )\n",
    "icu_admit = icu_admit[['SUBJECT_ID', 'HADM_ID', 'elective_adm', 'pre_icu_los']]"
   ]
  },
  {
   "cell_type": "code",
   "execution_count": null,
   "metadata": {},
   "outputs": [],
   "source": [
    "events_admit = pd.merge(all_events, icu_admit, on=['SUBJECT_ID', 'HADM_ID'], how='left')"
   ]
  },
  {
   "cell_type": "code",
   "execution_count": null,
   "metadata": {},
   "outputs": [],
   "source": [
    "events_admit"
   ]
  },
  {
   "cell_type": "code",
   "execution_count": null,
   "metadata": {
    "scrolled": true
   },
   "outputs": [],
   "source": [
    "events_admit.Oasis.value_counts()"
   ]
  },
  {
   "cell_type": "code",
   "execution_count": null,
   "metadata": {
    "scrolled": true
   },
   "outputs": [],
   "source": [
    "events_admit.groupby(['SUBJECT_ID', 'HADM_ID', 'elective_adm', 'pre_icu_los', 'total_uop', 'Oasis'])['Oasis_Value'].agg(max_val='max', min_val='min')"
   ]
  },
  {
   "cell_type": "code",
   "execution_count": null,
   "metadata": {},
   "outputs": [],
   "source": [
    "#events_admit.to_csv('M:/MIMIC_001_OASIS_raw.csv', index=False)\n",
    "events_admit.to_csv('data/MIMIC_001_OASIS_raw.csv', index=False)"
   ]
  },
  {
   "cell_type": "code",
   "execution_count": null,
   "metadata": {},
   "outputs": [],
   "source": []
  }
 ],
 "metadata": {
  "kernelspec": {
   "display_name": "Python 3 (ipykernel)",
   "language": "python",
   "name": "python3"
  },
  "language_info": {
   "codemirror_mode": {
    "name": "ipython",
    "version": 3
   },
   "file_extension": ".py",
   "mimetype": "text/x-python",
   "name": "python",
   "nbconvert_exporter": "python",
   "pygments_lexer": "ipython3",
   "version": "3.8.12"
  }
 },
 "nbformat": 4,
 "nbformat_minor": 4
}
